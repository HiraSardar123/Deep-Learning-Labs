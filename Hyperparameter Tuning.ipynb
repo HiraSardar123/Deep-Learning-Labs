{
  "cells": [
    {
      "cell_type": "markdown",
      "metadata": {
        "id": "IW9yd4zRICIb"
      },
      "source": [
        "## Hyperparameter Selection"
      ]
    },
    {
      "cell_type": "markdown",
      "metadata": {
        "id": "nXqI7Q8cxt5r"
      },
      "source": [
        "In the first part of our lab, we will explore two methods for hyperparameter tuning a machine learning model.\n",
        "\n",
        "In contrast to model parameters which are learned during training, model hyperparameters are set by the data scientist ahead of training. The weights learned during training are parameters while the number of trees in a random forest is a model hyperparameter because this is set by the data scientist. Hyperparameters can be thought of as model settings. These settings need to be tuned for each problem because the best model hyperparameters for one particular dataset will not be the best across all datasets. The process of hyperparameter tuning (also called hyperparameter optimization) means finding the best combination of hyperparameter values for a machine learning model - as measured on a validation set."
      ]
    },
    {
      "cell_type": "markdown",
      "metadata": {
        "id": "dYlPp3QLyUBU"
      },
      "source": [
        "There are several approaches to hyperparameter tuning\n",
        "\n",
        "    1. Manual: Select hyperparameters based on intuition/experience/guessing, train the model with the hyperparameters, and score on the validation data. Repeat this process until you are satisfied with the results.\n",
        "    2. Grid Search: Set up a grid of hyperparameter values and for each combination, train a model and score on the validation data. In this approach, every single combination of hyperparameter values is tried which can be very inefficient.\n",
        "    3. Random search: Set up a grid of hyperparameter values and select random combinations to train the model and score. The number of search iterations is set based on time/resources.\n",
        "    4. Automated Hyperparameter Tuning: Use methods such as gradient descent, Bayesian optimization, or evolutionary algorithms to conduct a guided search for the best combination."
      ]
    },
    {
      "cell_type": "markdown",
      "metadata": {
        "id": "xtMdaz7iy6EU"
      },
      "source": [
        "In this lab, we will implement approaches 2 and 3 for a Gradient Boosting model."
      ]
    },
    {
      "cell_type": "markdown",
      "metadata": {
        "id": "pthc5YRWzFEr"
      },
      "source": [
        "### Getting Started"
      ]
    },
    {
      "cell_type": "markdown",
      "metadata": {
        "id": "hCTFPzU5zIwD"
      },
      "source": [
        "We will work with a subset of the data consisting of 10000 rows. Hyperparameter tuning is extremely computationally expensive and working with the full dataset would not be feasible for more than a few search iterations. However, the same ideas that we will implement here can be applied to the full dataset and while this notebook is specifically aimed at the GBM, the methods can be applied for any machine learning model."
      ]
    },
    {
      "cell_type": "code",
      "execution_count": 1,
      "metadata": {
        "colab": {
          "base_uri": "https://localhost:8080/"
        },
        "id": "HN581TumzHE0",
        "outputId": "821b5b6c-69a5-4269-c3d8-0d117b8d3511"
      },
      "outputs": [
        {
          "name": "stderr",
          "output_type": "stream",
          "text": [
            "/usr/local/lib/python3.11/dist-packages/dask/dataframe/__init__.py:42: FutureWarning: \n",
            "Dask dataframe query planning is disabled because dask-expr is not installed.\n",
            "\n",
            "You can install it with `pip install dask[dataframe]` or `conda install dask`.\n",
            "This will raise in a future version.\n",
            "\n",
            "  warnings.warn(msg, FutureWarning)\n"
          ]
        }
      ],
      "source": [
        "# Data manipulation\n",
        "import pandas as pd\n",
        "import numpy as np\n",
        "\n",
        "# Modeling\n",
        "import lightgbm as lgb\n",
        "import logging\n",
        "logging.getLogger(\"lightgbm\").setLevel(logging.CRITICAL)\n",
        "\n",
        "# Splitting data\n",
        "from sklearn.model_selection import train_test_split\n",
        "\n",
        "N_FOLDS = 5\n",
        "MAX_EVALS = 5"
      ]
    },
    {
      "cell_type": "markdown",
      "metadata": {
        "id": "feuf2Ky2zYPU"
      },
      "source": [
        "Below we read in the data and separate it into a training set of 10000 observations and a \"testing set\" of 6000 observations. After creating the testing set, we cannot do any hyperparameter tuning with it."
      ]
    },
    {
      "cell_type": "code",
      "execution_count": 2,
      "metadata": {
        "id": "22MD-oF8zcAL"
      },
      "outputs": [],
      "source": [
        "features = pd.read_csv('/content/data.csv')\n",
        "\n",
        "# Sample 16000 rows (10000 for training, 6000 for testing)\n",
        "features = features.sample(n = 16000, random_state = 42)\n",
        "\n",
        "# Only numeric features\n",
        "features = features.select_dtypes('number')\n",
        "\n",
        "# Extract the labels\n",
        "labels = np.array(features['TARGET'].astype(np.int32)).reshape((-1, ))\n",
        "features = features.drop(columns = ['TARGET', 'SK_ID_CURR'])\n",
        "\n",
        "# Split into training and testing data\n",
        "train_features, test_features, train_labels, test_labels = train_test_split(features, labels, test_size = 6000, random_state = 50)"
      ]
    },
    {
      "cell_type": "code",
      "execution_count": 3,
      "metadata": {
        "colab": {
          "base_uri": "https://localhost:8080/"
        },
        "id": "ECoqUI6PzfsT",
        "outputId": "cec90077-1faf-4985-f031-202c69cb5719"
      },
      "outputs": [
        {
          "name": "stdout",
          "output_type": "stream",
          "text": [
            "Training features shape:  (10000, 104)\n",
            "Testing features shape:  (6000, 104)\n"
          ]
        }
      ],
      "source": [
        "print(\"Training features shape: \", train_features.shape)\n",
        "print(\"Testing features shape: \", test_features.shape)"
      ]
    },
    {
      "cell_type": "code",
      "execution_count": 4,
      "metadata": {
        "id": "7l4l76pS1FVr"
      },
      "outputs": [],
      "source": [
        "# Create a training and testing dataset\n",
        "train_set = lgb.Dataset(data = train_features, label = train_labels, free_raw_data=False)\n",
        "test_set = lgb.Dataset(data = test_features, label = test_labels, free_raw_data=False)"
      ]
    },
    {
      "cell_type": "code",
      "execution_count": 5,
      "metadata": {
        "id": "v_pMleEfE1-E"
      },
      "outputs": [],
      "source": [
        "import warnings\n",
        "warnings.filterwarnings('ignore')"
      ]
    },
    {
      "cell_type": "code",
      "execution_count": 6,
      "metadata": {
        "colab": {
          "base_uri": "https://localhost:8080/"
        },
        "id": "zoBkMIzT1IDL",
        "outputId": "2a9f1801-27c9-4a9d-8e6a-4280fc871de8"
      },
      "outputs": [
        {
          "name": "stdout",
          "output_type": "stream",
          "text": [
            "[LightGBM] [Warning] Unknown parameter: importance_type\n",
            "[LightGBM] [Warning] Unknown parameter: importance_type\n",
            "[LightGBM] [Warning] Unknown parameter: importance_type\n",
            "[LightGBM] [Info] Auto-choosing row-wise multi-threading, the overhead of testing was 0.135780 seconds.\n",
            "You can set `force_row_wise=true` to remove the overhead.\n",
            "And if memory is not enough, you can set `force_col_wise=true`.\n",
            "[LightGBM] [Info] Total Bins 9997\n",
            "[LightGBM] [Info] Number of data points in the train set: 8000, number of used features: 93\n",
            "[LightGBM] [Warning] Unknown parameter: importance_type\n",
            "[LightGBM] [Warning] Unknown parameter: importance_type\n",
            "[LightGBM] [Warning] Unknown parameter: importance_type\n",
            "[LightGBM] [Info] Auto-choosing row-wise multi-threading, the overhead of testing was 0.355919 seconds.\n",
            "You can set `force_row_wise=true` to remove the overhead.\n",
            "And if memory is not enough, you can set `force_col_wise=true`.\n",
            "[LightGBM] [Info] Total Bins 9997\n",
            "[LightGBM] [Info] Number of data points in the train set: 8000, number of used features: 93\n",
            "[LightGBM] [Warning] Unknown parameter: importance_type\n",
            "[LightGBM] [Warning] Unknown parameter: importance_type\n",
            "[LightGBM] [Warning] Unknown parameter: importance_type\n",
            "[LightGBM] [Info] Auto-choosing col-wise multi-threading, the overhead of testing was 0.076824 seconds.\n",
            "You can set `force_col_wise=true` to remove the overhead.\n",
            "[LightGBM] [Info] Total Bins 9997\n",
            "[LightGBM] [Info] Number of data points in the train set: 8000, number of used features: 93\n",
            "[LightGBM] [Warning] Unknown parameter: importance_type\n",
            "[LightGBM] [Warning] Unknown parameter: importance_type\n",
            "[LightGBM] [Warning] Unknown parameter: importance_type\n",
            "[LightGBM] [Info] Auto-choosing row-wise multi-threading, the overhead of testing was 0.236686 seconds.\n",
            "You can set `force_row_wise=true` to remove the overhead.\n",
            "And if memory is not enough, you can set `force_col_wise=true`.\n",
            "[LightGBM] [Info] Total Bins 9997\n",
            "[LightGBM] [Info] Number of data points in the train set: 8000, number of used features: 93\n",
            "[LightGBM] [Warning] Unknown parameter: importance_type\n",
            "[LightGBM] [Warning] Unknown parameter: importance_type\n",
            "[LightGBM] [Warning] Unknown parameter: importance_type\n",
            "[LightGBM] [Info] Auto-choosing row-wise multi-threading, the overhead of testing was 0.239243 seconds.\n",
            "You can set `force_row_wise=true` to remove the overhead.\n",
            "And if memory is not enough, you can set `force_col_wise=true`.\n",
            "[LightGBM] [Info] Total Bins 9997\n",
            "[LightGBM] [Info] Number of data points in the train set: 8000, number of used features: 93\n",
            "[LightGBM] [Warning] Unknown parameter: importance_type\n",
            "[LightGBM] [Info] Start training from score 0.082375\n",
            "[LightGBM] [Info] Start training from score 0.082375\n",
            "[LightGBM] [Info] Start training from score 0.082375\n",
            "[LightGBM] [Info] Start training from score 0.082375\n",
            "[LightGBM] [Info] Start training from score 0.082500\n",
            "Training until validation scores don't improve for 100 rounds\n",
            "Early stopping, best iteration is:\n",
            "[19]\tcv_agg's valid auc: 0.716362 + 0.018142\n"
          ]
        }
      ],
      "source": [
        "# Import the early_stopping callback\n",
        "from lightgbm import early_stopping\n",
        "\n",
        "# Get default hyperparameters\n",
        "model = lgb.LGBMClassifier()\n",
        "default_params = model.get_params()\n",
        "\n",
        "# Remove the number of estimators because we set this to 10000 in the cv call\n",
        "del default_params['n_estimators']\n",
        "\n",
        "# Cross validation with early stopping using the callback\n",
        "cv_results = lgb.cv(default_params, train_set, num_boost_round=10000,\n",
        "                    metrics='auc', nfold=N_FOLDS, seed=42,\n",
        "                    callbacks=[early_stopping(stopping_rounds=100)]) # Use early_stopping callback"
      ]
    },
    {
      "cell_type": "code",
      "execution_count": 7,
      "metadata": {
        "colab": {
          "base_uri": "https://localhost:8080/"
        },
        "id": "bJzeWDp7-Se0",
        "outputId": "9a03c8a2-5358-4d60-c3a7-391c96bc2ed0"
      },
      "outputs": [
        {
          "name": "stdout",
          "output_type": "stream",
          "text": [
            "{'valid auc-mean': [0.6606296820006892, 0.6785737247461092, 0.6876787764186905, 0.6920238536470323, 0.6980282114062015, 0.7007515262272621, 0.7019102402720371, 0.7027799296244843, 0.7038111174147241, 0.7052532594510132, 0.708413098254373, 0.709269070051753, 0.7103137324993294, 0.7106799939939954, 0.7119391930339403, 0.7127252039141159, 0.7144109391747674, 0.7153335805912058, 0.7163621210120483], 'valid auc-stdv': [0.03433995447791942, 0.03923359090275524, 0.034770677423619036, 0.031282692518835725, 0.030364861014553008, 0.032530870027039395, 0.03328890054084283, 0.02812952014701759, 0.02805930888843699, 0.026281552709974957, 0.02366788251994557, 0.022034769091263413, 0.023137377203538416, 0.020539797269945013, 0.02089219775313339, 0.01925231985647043, 0.017883261073009915, 0.017829703218800005, 0.018142016766178933]}\n"
          ]
        }
      ],
      "source": [
        "print(cv_results)"
      ]
    },
    {
      "cell_type": "code",
      "execution_count": 8,
      "metadata": {
        "colab": {
          "base_uri": "https://localhost:8080/"
        },
        "id": "vZaOPLw61I7k",
        "outputId": "11d52ef5-f49b-4fe4-ebb0-617c3dc51aa6"
      },
      "outputs": [
        {
          "name": "stdout",
          "output_type": "stream",
          "text": [
            "The maximum validation ROC AUC was: 0.71636 with a standard deviation of 0.01814.\n",
            "The optimal number of boosting rounds (estimators) was 19.\n"
          ]
        }
      ],
      "source": [
        "print('The maximum validation ROC AUC was: {:.5f} with a standard deviation of {:.5f}.'.format(cv_results['valid auc-mean'][-1], cv_results['valid auc-stdv'][-1]))\n",
        "print('The optimal number of boosting rounds (estimators) was {}.'.format(len(cv_results['valid auc-mean'])))"
      ]
    },
    {
      "cell_type": "markdown",
      "metadata": {
        "id": "2cgWXsWd1NXk"
      },
      "source": [
        "We can use this result as a baseline model to beat. To find out how well the model does on our \"test\" data, we will retrain it on all the training data with the best number of estimators found during cross validation with early stopping."
      ]
    },
    {
      "cell_type": "code",
      "execution_count": 9,
      "metadata": {
        "id": "OOl5Xcx_1Tec"
      },
      "outputs": [],
      "source": [
        "from sklearn.metrics import roc_auc_score"
      ]
    },
    {
      "cell_type": "code",
      "execution_count": 10,
      "metadata": {
        "colab": {
          "base_uri": "https://localhost:8080/"
        },
        "id": "6ykA5JBe1U1W",
        "outputId": "186b5725-0ac2-40ba-9ae1-3766f9982363"
      },
      "outputs": [
        {
          "name": "stdout",
          "output_type": "stream",
          "text": [
            "[LightGBM] [Info] Number of positive: 824, number of negative: 9176\n",
            "[LightGBM] [Info] Auto-choosing row-wise multi-threading, the overhead of testing was 0.007526 seconds.\n",
            "You can set `force_row_wise=true` to remove the overhead.\n",
            "And if memory is not enough, you can set `force_col_wise=true`.\n",
            "[LightGBM] [Info] Total Bins 9997\n",
            "[LightGBM] [Info] Number of data points in the train set: 10000, number of used features: 93\n",
            "[LightGBM] [Info] [binary:BoostFromScore]: pavg=0.082400 -> initscore=-2.410176\n",
            "[LightGBM] [Info] Start training from score -2.410176\n",
            "The baseline model scores 0.71370 ROC AUC on the test set.\n"
          ]
        }
      ],
      "source": [
        "# Optimal number of esimators found in cv\n",
        "model.n_estimators = len(cv_results['valid auc-mean'])\n",
        "\n",
        "# Train and make predicions with model\n",
        "model.fit(train_features, train_labels)\n",
        "preds = model.predict_proba(test_features)[:, 1]\n",
        "baseline_auc = roc_auc_score(test_labels, preds)\n",
        "\n",
        "print('The baseline model scores {:.5f} ROC AUC on the test set.'.format(baseline_auc))"
      ]
    },
    {
      "cell_type": "markdown",
      "metadata": {
        "id": "asgHsumQ1XD1"
      },
      "source": [
        "This is the baseline score before hyperparameter tuning. The only difference we made from the default model was using early stopping to set the number of estimators (which by default is 100)."
      ]
    },
    {
      "cell_type": "markdown",
      "metadata": {
        "id": "uvgcwq031dZb"
      },
      "source": [
        "### Hyperparameter Tuning Implementation"
      ]
    },
    {
      "cell_type": "markdown",
      "metadata": {
        "id": "9D_B2Up91h00"
      },
      "source": [
        "Now we have the basic framework in place, we will use cross validation to determine the performance of model hyperparameters and early stopping with the GBM so we do not have to tune the number of estimators. The basic strategy for both grid and random search is simple: for each hyperparameter value combination, evaluate the cross validation score and record the results along with the hyperparameters. Then, at the end of searching, choose the hyperparameters that yielded the highest cross-validation score, train the model on all the training data, and make predictions on the test data."
      ]
    },
    {
      "cell_type": "markdown",
      "metadata": {
        "id": "n7ro44v41vXV"
      },
      "source": [
        "It's helpful to think of hyperparameter tuning as having four parts:\n",
        "\n",
        "    1. Objective function: a function that takes in hyperparameters and returns a score we are trying to minimize or maximize\n",
        "    2. Domain: the set of hyperparameter values over which we want to search.\n",
        "    3. Algorithm: method for selecting the next set of hyperparameters to evaluate in the objective function.\n",
        "    4. Results history: data structure containing each set of hyperparameters and the resulting score from the objective function."
      ]
    },
    {
      "cell_type": "markdown",
      "metadata": {
        "id": "c1o4u_gO2Au8"
      },
      "source": [
        "### Objective Function"
      ]
    },
    {
      "cell_type": "code",
      "execution_count": 11,
      "metadata": {
        "id": "isrcMCng1qGc"
      },
      "outputs": [],
      "source": [
        "def objective(hyperparameters, iteration):\n",
        "    \"\"\"Objective function for grid and random search. Returns\n",
        "       the cross validation score from a set of hyperparameters.\"\"\"\n",
        "\n",
        "    # Number of estimators will be found using early stopping\n",
        "    if 'n_estimators' in hyperparameters.keys():\n",
        "        del hyperparameters['n_estimators']\n",
        "\n",
        "    # Perform n_folds cross validation\n",
        "    cv_results = lgb.cv(hyperparameters, train_set, num_boost_round=10000,\n",
        "                    metrics='auc', nfold=N_FOLDS, seed=42,\n",
        "                    callbacks=[early_stopping(stopping_rounds=100)])\n",
        "\n",
        "    # results to retun\n",
        "    score = cv_results['valid auc-mean'][-1]\n",
        "    estimators = len(cv_results['valid auc-mean'])\n",
        "    hyperparameters['n_estimators'] = estimators\n",
        "\n",
        "    return [score, hyperparameters, iteration]"
      ]
    },
    {
      "cell_type": "code",
      "execution_count": 12,
      "metadata": {
        "colab": {
          "base_uri": "https://localhost:8080/"
        },
        "id": "kybgp2aW2FY0",
        "outputId": "f265d760-f957-4666-cd57-6f1f7124e4cb"
      },
      "outputs": [
        {
          "name": "stdout",
          "output_type": "stream",
          "text": [
            "[LightGBM] [Warning] Unknown parameter: importance_type\n",
            "[LightGBM] [Warning] Unknown parameter: importance_type\n",
            "[LightGBM] [Warning] Unknown parameter: importance_type\n",
            "[LightGBM] [Warning] Unknown parameter: importance_type\n",
            "[LightGBM] [Info] Auto-choosing row-wise multi-threading, the overhead of testing was 0.004611 seconds.\n",
            "You can set `force_row_wise=true` to remove the overhead.\n",
            "And if memory is not enough, you can set `force_col_wise=true`.\n",
            "[LightGBM] [Info] Total Bins 9997\n",
            "[LightGBM] [Info] Number of data points in the train set: 8000, number of used features: 93\n",
            "[LightGBM] [Warning] Unknown parameter: importance_type\n",
            "[LightGBM] [Warning] Unknown parameter: importance_type\n",
            "[LightGBM] [Warning] Unknown parameter: importance_type\n",
            "[LightGBM] [Info] Auto-choosing col-wise multi-threading, the overhead of testing was 0.017504 seconds.\n",
            "You can set `force_col_wise=true` to remove the overhead.\n",
            "[LightGBM] [Info] Total Bins 9997\n",
            "[LightGBM] [Info] Number of data points in the train set: 8000, number of used features: 93\n",
            "[LightGBM] [Warning] Unknown parameter: importance_type\n",
            "[LightGBM] [Warning] Unknown parameter: importance_type\n",
            "[LightGBM] [Warning] Unknown parameter: importance_type\n",
            "[LightGBM] [Info] Auto-choosing row-wise multi-threading, the overhead of testing was 0.004496 seconds.\n",
            "You can set `force_row_wise=true` to remove the overhead.\n",
            "And if memory is not enough, you can set `force_col_wise=true`.\n",
            "[LightGBM] [Info] Total Bins 9997\n",
            "[LightGBM] [Info] Number of data points in the train set: 8000, number of used features: 93\n",
            "[LightGBM] [Warning] Unknown parameter: importance_type\n",
            "[LightGBM] [Warning] Unknown parameter: importance_type\n",
            "[LightGBM] [Warning] Unknown parameter: importance_type\n",
            "[LightGBM] [Info] Auto-choosing row-wise multi-threading, the overhead of testing was 0.004531 seconds.\n",
            "You can set `force_row_wise=true` to remove the overhead.\n",
            "And if memory is not enough, you can set `force_col_wise=true`.\n",
            "[LightGBM] [Info] Total Bins 9997\n",
            "[LightGBM] [Info] Number of data points in the train set: 8000, number of used features: 93\n",
            "[LightGBM] [Warning] Unknown parameter: importance_type\n",
            "[LightGBM] [Warning] Unknown parameter: importance_type\n",
            "[LightGBM] [Warning] Unknown parameter: importance_type\n",
            "[LightGBM] [Info] Auto-choosing row-wise multi-threading, the overhead of testing was 0.004389 seconds.\n",
            "You can set `force_row_wise=true` to remove the overhead.\n",
            "And if memory is not enough, you can set `force_col_wise=true`.\n",
            "[LightGBM] [Info] Total Bins 9997\n",
            "[LightGBM] [Info] Number of data points in the train set: 8000, number of used features: 93\n",
            "[LightGBM] [Warning] Unknown parameter: importance_type\n",
            "[LightGBM] [Info] Start training from score 0.082375\n",
            "[LightGBM] [Info] Start training from score 0.082375\n",
            "[LightGBM] [Info] Start training from score 0.082375\n",
            "[LightGBM] [Info] Start training from score 0.082375\n",
            "[LightGBM] [Info] Start training from score 0.082500\n",
            "Training until validation scores don't improve for 100 rounds\n",
            "Early stopping, best iteration is:\n",
            "[19]\tcv_agg's valid auc: 0.716362 + 0.018142\n",
            "The cross-validation ROC AUC was 0.71636.\n"
          ]
        }
      ],
      "source": [
        "score, params, iteration = objective(default_params, 1)\n",
        "\n",
        "print('The cross-validation ROC AUC was {:.5f}.'.format(score))"
      ]
    },
    {
      "cell_type": "markdown",
      "metadata": {
        "id": "kK8rzR_22Gfz"
      },
      "source": [
        "### Domain"
      ]
    },
    {
      "cell_type": "markdown",
      "metadata": {
        "id": "CbRoKu8j2MBk"
      },
      "source": [
        "The domain, or search space, is all the possible values for all the hyperparameters that we want to search over. For random and grid search, the domain is a hyperparameter grid and usually takes the form of a dictionary with the keys being the hyperparameters and the values lists of values for each hyperparameter."
      ]
    },
    {
      "cell_type": "code",
      "execution_count": 13,
      "metadata": {
        "colab": {
          "base_uri": "https://localhost:8080/"
        },
        "id": "4L4IIPMR2HnT",
        "outputId": "a114006d-4820-472f-95e5-4b344a90660b"
      },
      "outputs": [
        {
          "data": {
            "text/plain": [
              "{'boosting_type': 'gbdt',\n",
              " 'class_weight': None,\n",
              " 'colsample_bytree': 1.0,\n",
              " 'importance_type': 'split',\n",
              " 'learning_rate': 0.1,\n",
              " 'max_depth': -1,\n",
              " 'min_child_samples': 20,\n",
              " 'min_child_weight': 0.001,\n",
              " 'min_split_gain': 0.0,\n",
              " 'n_estimators': 100,\n",
              " 'n_jobs': None,\n",
              " 'num_leaves': 31,\n",
              " 'objective': None,\n",
              " 'random_state': None,\n",
              " 'reg_alpha': 0.0,\n",
              " 'reg_lambda': 0.0,\n",
              " 'subsample': 1.0,\n",
              " 'subsample_for_bin': 200000,\n",
              " 'subsample_freq': 0}"
            ]
          },
          "execution_count": 13,
          "metadata": {},
          "output_type": "execute_result"
        }
      ],
      "source": [
        "# Create a default model\n",
        "model = lgb.LGBMModel()\n",
        "model.get_params()"
      ]
    },
    {
      "cell_type": "markdown",
      "metadata": {
        "id": "6UoX6oZk2Ut0"
      },
      "source": [
        "Some of these we do not need to tune such as silent, objective, random_state, and n_jobs, and we will use early stopping to determine perhaps the most important hyperparameter, the number of individual learners trained, n_estimators (also referred to as num_boost_rounds or the number of iterations). However, there are still many hyperparameters to optimize, and we will choose 10 to tune."
      ]
    },
    {
      "cell_type": "code",
      "execution_count": 14,
      "metadata": {
        "id": "Dzy2psu72Ss7"
      },
      "outputs": [],
      "source": [
        "# Hyperparameter grid\n",
        "param_grid = {\n",
        "    'boosting_type': ['gbdt', 'goss', 'dart'],\n",
        "    'num_leaves': list(range(20, 150)),\n",
        "    'learning_rate': list(np.logspace(np.log10(0.005), np.log10(0.5), base = 10, num = 1000)),\n",
        "    'subsample_for_bin': list(range(20000, 300000, 20000)),\n",
        "    'min_child_samples': list(range(20, 500, 5)),\n",
        "    'reg_alpha': list(np.linspace(0, 1)),\n",
        "    'reg_lambda': list(np.linspace(0, 1)),\n",
        "    'colsample_bytree': list(np.linspace(0.6, 1, 10)),\n",
        "    'subsample': list(np.linspace(0.5, 1, 100)),\n",
        "    'is_unbalance': [True, False]\n",
        "}"
      ]
    },
    {
      "cell_type": "code",
      "execution_count": 15,
      "metadata": {
        "colab": {
          "base_uri": "https://localhost:8080/"
        },
        "id": "bdI48uLR2hIU",
        "outputId": "2a362195-5e70-4a2f-cf84-c14391ee0c48"
      },
      "outputs": [
        {
          "name": "stdout",
          "output_type": "stream",
          "text": [
            "Boosting type:  goss\n",
            "Subsample ratio:  1.0\n"
          ]
        }
      ],
      "source": [
        "import random\n",
        "\n",
        "random.seed(50)\n",
        "\n",
        "# Randomly sample a boosting type\n",
        "boosting_type = random.sample(param_grid['boosting_type'], 1)[0]\n",
        "\n",
        "# Set subsample depending on boosting type\n",
        "subsample = 1.0 if boosting_type == 'goss' else random.sample(param_grid['subsample'], 1)[0]\n",
        "\n",
        "print('Boosting type: ', boosting_type)\n",
        "print('Subsample ratio: ', subsample)"
      ]
    },
    {
      "cell_type": "code",
      "execution_count": 16,
      "metadata": {
        "colab": {
          "base_uri": "https://localhost:8080/",
          "height": 482
        },
        "id": "yQV8hYwK2mej",
        "outputId": "37f6ca13-6dbe-48e1-90da-9a139e94c359"
      },
      "outputs": [
        {
          "data": {
            "image/png": "[encoded data removed]",
            "text/plain": [
              "<Figure size 640x480 with 1 Axes>"
            ]
          },
          "metadata": {},
          "output_type": "display_data"
        }
      ],
      "source": [
        "import matplotlib.pyplot as plt\n",
        "import seaborn as sns\n",
        "\n",
        "%matplotlib inline\n",
        "\n",
        "# Learning rate histogram\n",
        "plt.hist(param_grid['learning_rate'], bins = 20, color = 'r', edgecolor = 'k');\n",
        "plt.xlabel('Learning Rate', size = 14); plt.ylabel('Count', size = 14); plt.title('Learning Rate Distribution', size = 18);"
      ]
    },
    {
      "cell_type": "code",
      "execution_count": 17,
      "metadata": {
        "colab": {
          "base_uri": "https://localhost:8080/"
        },
        "id": "VjYOUFLW2nHc",
        "outputId": "f267af9c-7fb2-4b65-dac4-bfc62daf89c7"
      },
      "outputs": [
        {
          "name": "stdout",
          "output_type": "stream",
          "text": [
            "There are 499 values between 0.005 and 0.05\n",
            "There are 499 values between 0.05 and 0.5\n"
          ]
        }
      ],
      "source": [
        "a = 0\n",
        "b = 0\n",
        "\n",
        "# Check number of values in each category\n",
        "for x in param_grid['learning_rate']:\n",
        "    # Check values\n",
        "    if x >= 0.005 and x < 0.05:\n",
        "        a += 1\n",
        "    elif x >= 0.05 and x < 0.5:\n",
        "        b += 1\n",
        "\n",
        "print('There are {} values between 0.005 and 0.05'.format(a))\n",
        "print('There are {} values between 0.05 and 0.5'.format(b))"
      ]
    },
    {
      "cell_type": "code",
      "execution_count": 18,
      "metadata": {
        "colab": {
          "base_uri": "https://localhost:8080/",
          "height": 482
        },
        "id": "44nc6gFa2pjj",
        "outputId": "617d8dce-8228-47f1-d314-5f656970d6de"
      },
      "outputs": [
        {
          "data": {
            "image/png": "[encoded data removed]",
            "text/plain": [
              "<Figure size 640x480 with 1 Axes>"
            ]
          },
          "metadata": {},
          "output_type": "display_data"
        }
      ],
      "source": [
        "# number of leaves domain\n",
        "plt.hist(param_grid['num_leaves'], color = 'm', edgecolor = 'k')\n",
        "plt.xlabel('Learning Number of Leaves', size = 14); plt.ylabel('Count', size = 14); plt.title('Number of Leaves Distribution', size = 18);"
      ]
    },
    {
      "cell_type": "markdown",
      "metadata": {
        "id": "AErAgwEO2uCm"
      },
      "source": [
        "### Algorithm"
      ]
    },
    {
      "cell_type": "markdown",
      "metadata": {
        "id": "aIKeH-6w2xkr"
      },
      "source": [
        "Although we don't generally think of them as such, both grid and random search are algorithms. In the case of grid search, we input the domain and the algorithm selects the next value for each hyperparameter in an ordered sequence. The only requirement of grid search is that it tries every combination in a grid once (and only once). For random search, we input the domain and each time the algorithm gives us a random combination of hyperparameter values to try. There are no requirements for random search other than that the next values are selected at random.\n",
        "\n",
        "We will implement these algorithms as soon as we cover the final part of hyperparameter tuning."
      ]
    },
    {
      "cell_type": "markdown",
      "metadata": {
        "id": "YuuekjXs261T"
      },
      "source": [
        "### Results History"
      ]
    },
    {
      "cell_type": "markdown",
      "metadata": {
        "id": "25o92fNT2-cz"
      },
      "source": [
        "The results history is a data structure that contains the hyperparameter combinations and the resulting score on the objective function."
      ]
    },
    {
      "cell_type": "code",
      "execution_count": 19,
      "metadata": {
        "id": "M12c6Nue2vH0"
      },
      "outputs": [],
      "source": [
        "# Dataframes for random and grid search\n",
        "random_results = pd.DataFrame(columns = ['score', 'params', 'iteration'],\n",
        "                              index = list(range(MAX_EVALS)))\n",
        "\n",
        "grid_results = pd.DataFrame(columns = ['score', 'params', 'iteration'],\n",
        "                              index = list(range(MAX_EVALS)))"
      ]
    },
    {
      "cell_type": "markdown",
      "metadata": {
        "id": "EBkrzOvl3BPM"
      },
      "source": [
        "### Grid Search Implementation"
      ]
    },
    {
      "cell_type": "code",
      "execution_count": 20,
      "metadata": {
        "colab": {
          "base_uri": "https://localhost:8080/"
        },
        "id": "euTbBraN3JXT",
        "outputId": "9a1bc6d1-586d-4507-a413-5e11d4358091"
      },
      "outputs": [
        {
          "name": "stdout",
          "output_type": "stream",
          "text": [
            "There are 2620800000000000 combinations\n"
          ]
        }
      ],
      "source": [
        "com = 1\n",
        "for x in param_grid.values():\n",
        "    com *= len(x)\n",
        "print('There are {} combinations'.format(com))"
      ]
    },
    {
      "cell_type": "code",
      "execution_count": 21,
      "metadata": {
        "colab": {
          "base_uri": "https://localhost:8080/"
        },
        "id": "jgbArKMX3NNr",
        "outputId": "cfd52ee5-3d76-4b65-c46b-5347917e7da1"
      },
      "outputs": [
        {
          "name": "stdout",
          "output_type": "stream",
          "text": [
            "This would take 8310502283 years to finish.\n"
          ]
        }
      ],
      "source": [
        "print('This would take {:.0f} years to finish.'.format((100 * com) / (60 * 60 * 24 * 365)))"
      ]
    },
    {
      "cell_type": "code",
      "execution_count": 22,
      "metadata": {
        "id": "nuGhVtUJ3NyD"
      },
      "outputs": [],
      "source": [
        "import itertools\n",
        "\n",
        "def grid_search(param_grid, max_evals = MAX_EVALS):\n",
        "    \"\"\"Grid search algorithm (with limit on max evals)\"\"\"\n",
        "\n",
        "    # Dataframe to store results\n",
        "    results = pd.DataFrame(columns = ['score', 'params', 'iteration'],\n",
        "                              index = list(range(MAX_EVALS)))\n",
        "\n",
        "    keys, values = zip(*param_grid.items())\n",
        "\n",
        "    i = 0\n",
        "\n",
        "    # Iterate through every possible combination of hyperparameters\n",
        "    for v in itertools.product(*values):\n",
        "\n",
        "        # Create a hyperparameter dictionary\n",
        "        hyperparameters = dict(zip(keys, v))\n",
        "\n",
        "        # Set the subsample ratio accounting for boosting type\n",
        "        hyperparameters['subsample'] = 1.0 if hyperparameters['boosting_type'] == 'goss' else hyperparameters['subsample']\n",
        "\n",
        "        # Evalute the hyperparameters\n",
        "        eval_results = objective(hyperparameters, i)\n",
        "\n",
        "        results.loc[i, :] = eval_results\n",
        "\n",
        "        i += 1\n",
        "\n",
        "        # Normally would not limit iterations\n",
        "        if i > MAX_EVALS:\n",
        "            break\n",
        "\n",
        "    # Sort with best score on top\n",
        "    results.sort_values('score', ascending = False, inplace = True)\n",
        "    results.reset_index(inplace = True)\n",
        "\n",
        "    return results"
      ]
    },
    {
      "cell_type": "code",
      "execution_count": 23,
      "metadata": {
        "colab": {
          "base_uri": "https://localhost:8080/"
        },
        "id": "_a5z_b7L3TKs",
        "outputId": "b1c2d962-84ee-48f1-de7b-dbce3e253a63"
      },
      "outputs": [
        {
          "name": "stdout",
          "output_type": "stream",
          "text": [
            "[LightGBM] [Warning] Unknown parameter: importance_type\n",
            "[LightGBM] [Warning] Unknown parameter: importance_type\n",
            "[LightGBM] [Warning] Unknown parameter: importance_type\n",
            "[LightGBM] [Info] Auto-choosing row-wise multi-threading, the overhead of testing was 0.013157 seconds.\n",
            "You can set `force_row_wise=true` to remove the overhead.\n",
            "And if memory is not enough, you can set `force_col_wise=true`.\n",
            "[LightGBM] [Info] Total Bins 9997\n",
            "[LightGBM] [Info] Number of data points in the train set: 8000, number of used features: 93\n",
            "[LightGBM] [Warning] Unknown parameter: importance_type\n",
            "[LightGBM] [Warning] Unknown parameter: importance_type\n",
            "[LightGBM] [Info] Auto-choosing row-wise multi-threading, the overhead of testing was 0.009655 seconds.\n",
            "You can set `force_row_wise=true` to remove the overhead.\n",
            "And if memory is not enough, you can set `force_col_wise=true`.\n",
            "[LightGBM] [Info] Total Bins 9997\n",
            "[LightGBM] [Info] Number of data points in the train set: 8000, number of used features: 93\n",
            "[LightGBM] [Warning] Unknown parameter: importance_type\n",
            "[LightGBM] [Warning] Unknown parameter: importance_type\n",
            "[LightGBM] [Info] Auto-choosing row-wise multi-threading, the overhead of testing was 0.009289 seconds.\n",
            "You can set `force_row_wise=true` to remove the overhead.\n",
            "And if memory is not enough, you can set `force_col_wise=true`.\n",
            "[LightGBM] [Info] Total Bins 9997\n",
            "[LightGBM] [Info] Number of data points in the train set: 8000, number of used features: 93\n",
            "[LightGBM] [Warning] Unknown parameter: importance_type\n",
            "[LightGBM] [Warning] Unknown parameter: importance_type\n",
            "[LightGBM] [Info] Auto-choosing row-wise multi-threading, the overhead of testing was 0.065832 seconds.\n",
            "You can set `force_row_wise=true` to remove the overhead.\n",
            "And if memory is not enough, you can set `force_col_wise=true`.\n",
            "[LightGBM] [Info] Total Bins 9997\n",
            "[LightGBM] [Info] Number of data points in the train set: 8000, number of used features: 93\n",
            "[LightGBM] [Warning] Unknown parameter: importance_type\n",
            "[LightGBM] [Warning] Unknown parameter: importance_type\n",
            "[LightGBM] [Info] Auto-choosing row-wise multi-threading, the overhead of testing was 0.028804 seconds.\n",
            "You can set `force_row_wise=true` to remove the overhead.\n",
            "And if memory is not enough, you can set `force_col_wise=true`.\n",
            "[LightGBM] [Info] Total Bins 9997\n",
            "[LightGBM] [Info] Number of data points in the train set: 8000, number of used features: 93\n",
            "[LightGBM] [Warning] Unknown parameter: importance_type\n",
            "[LightGBM] [Info] Start training from score 0.082375\n",
            "[LightGBM] [Info] Start training from score 0.082375\n",
            "[LightGBM] [Info] Start training from score 0.082375\n",
            "[LightGBM] [Info] Start training from score 0.082375\n",
            "[LightGBM] [Info] Start training from score 0.082500\n",
            "Training until validation scores don't improve for 100 rounds\n",
            "Early stopping, best iteration is:\n",
            "[524]\tcv_agg's valid auc: 0.727682 + 0.0220251\n",
            "[LightGBM] [Warning] Unknown parameter: importance_type\n",
            "[LightGBM] [Warning] Unknown parameter: importance_type\n",
            "[LightGBM] [Info] Auto-choosing row-wise multi-threading, the overhead of testing was 0.004204 seconds.\n",
            "You can set `force_row_wise=true` to remove the overhead.\n",
            "And if memory is not enough, you can set `force_col_wise=true`.\n",
            "[LightGBM] [Info] Total Bins 9997\n",
            "[LightGBM] [Info] Number of data points in the train set: 8000, number of used features: 93\n",
            "[LightGBM] [Warning] Unknown parameter: importance_type\n",
            "[LightGBM] [Warning] Unknown parameter: importance_type\n",
            "[LightGBM] [Info] Auto-choosing row-wise multi-threading, the overhead of testing was 0.004039 seconds.\n",
            "You can set `force_row_wise=true` to remove the overhead.\n",
            "And if memory is not enough, you can set `force_col_wise=true`.\n",
            "[LightGBM] [Info] Total Bins 9997\n",
            "[LightGBM] [Info] Number of data points in the train set: 8000, number of used features: 93\n",
            "[LightGBM] [Warning] Unknown parameter: importance_type\n",
            "[LightGBM] [Warning] Unknown parameter: importance_type\n",
            "[LightGBM] [Info] Auto-choosing col-wise multi-threading, the overhead of testing was 0.012559 seconds.\n",
            "You can set `force_col_wise=true` to remove the overhead.\n",
            "[LightGBM] [Info] Total Bins 9997\n",
            "[LightGBM] [Info] Number of data points in the train set: 8000, number of used features: 93\n",
            "[LightGBM] [Warning] Unknown parameter: importance_type\n",
            "[LightGBM] [Warning] Unknown parameter: importance_type\n",
            "[LightGBM] [Info] Auto-choosing row-wise multi-threading, the overhead of testing was 0.003828 seconds.\n",
            "You can set `force_row_wise=true` to remove the overhead.\n",
            "And if memory is not enough, you can set `force_col_wise=true`.\n",
            "[LightGBM] [Info] Total Bins 9997\n",
            "[LightGBM] [Info] Number of data points in the train set: 8000, number of used features: 93\n",
            "[LightGBM] [Warning] Unknown parameter: importance_type\n",
            "[LightGBM] [Warning] Unknown parameter: importance_type\n",
            "[LightGBM] [Info] Auto-choosing row-wise multi-threading, the overhead of testing was 0.004087 seconds.\n",
            "You can set `force_row_wise=true` to remove the overhead.\n",
            "And if memory is not enough, you can set `force_col_wise=true`.\n",
            "[LightGBM] [Info] Total Bins 9997\n",
            "[LightGBM] [Info] Number of data points in the train set: 8000, number of used features: 93\n",
            "[LightGBM] [Warning] Unknown parameter: importance_type\n",
            "[LightGBM] [Info] Start training from score 0.082375\n",
            "[LightGBM] [Info] Start training from score 0.082375\n",
            "[LightGBM] [Info] Start training from score 0.082375\n",
            "[LightGBM] [Info] Start training from score 0.082375\n",
            "[LightGBM] [Info] Start training from score 0.082500\n",
            "Training until validation scores don't improve for 100 rounds\n",
            "Early stopping, best iteration is:\n",
            "[524]\tcv_agg's valid auc: 0.727682 + 0.0220251\n",
            "[LightGBM] [Warning] Unknown parameter: importance_type\n",
            "[LightGBM] [Warning] Unknown parameter: importance_type\n",
            "[LightGBM] [Info] Auto-choosing row-wise multi-threading, the overhead of testing was 0.004498 seconds.\n",
            "You can set `force_row_wise=true` to remove the overhead.\n",
            "And if memory is not enough, you can set `force_col_wise=true`.\n",
            "[LightGBM] [Info] Total Bins 9997\n",
            "[LightGBM] [Info] Number of data points in the train set: 8000, number of used features: 93\n",
            "[LightGBM] [Warning] Unknown parameter: importance_type\n",
            "[LightGBM] [Warning] Unknown parameter: importance_type\n",
            "[LightGBM] [Info] Auto-choosing row-wise multi-threading, the overhead of testing was 0.005407 seconds.\n",
            "You can set `force_row_wise=true` to remove the overhead.\n",
            "And if memory is not enough, you can set `force_col_wise=true`.\n",
            "[LightGBM] [Info] Total Bins 9997\n",
            "[LightGBM] [Info] Number of data points in the train set: 8000, number of used features: 93\n",
            "[LightGBM] [Warning] Unknown parameter: importance_type\n",
            "[LightGBM] [Warning] Unknown parameter: importance_type\n",
            "[LightGBM] [Info] Auto-choosing row-wise multi-threading, the overhead of testing was 0.004142 seconds.\n",
            "You can set `force_row_wise=true` to remove the overhead.\n",
            "And if memory is not enough, you can set `force_col_wise=true`.\n",
            "[LightGBM] [Info] Total Bins 9997\n",
            "[LightGBM] [Info] Number of data points in the train set: 8000, number of used features: 93\n",
            "[LightGBM] [Warning] Unknown parameter: importance_type\n",
            "[LightGBM] [Warning] Unknown parameter: importance_type\n",
            "[LightGBM] [Info] Auto-choosing col-wise multi-threading, the overhead of testing was 0.013089 seconds.\n",
            "You can set `force_col_wise=true` to remove the overhead.\n",
            "[LightGBM] [Info] Total Bins 9997\n",
            "[LightGBM] [Info] Number of data points in the train set: 8000, number of used features: 93\n",
            "[LightGBM] [Warning] Unknown parameter: importance_type\n",
            "[LightGBM] [Warning] Unknown parameter: importance_type\n",
            "[LightGBM] [Info] Auto-choosing row-wise multi-threading, the overhead of testing was 0.003837 seconds.\n",
            "You can set `force_row_wise=true` to remove the overhead.\n",
            "And if memory is not enough, you can set `force_col_wise=true`.\n",
            "[LightGBM] [Info] Total Bins 9997\n",
            "[LightGBM] [Info] Number of data points in the train set: 8000, number of used features: 93\n",
            "[LightGBM] [Warning] Unknown parameter: importance_type\n",
            "[LightGBM] [Info] Start training from score 0.082375\n",
            "[LightGBM] [Info] Start training from score 0.082375\n",
            "[LightGBM] [Info] Start training from score 0.082375\n",
            "[LightGBM] [Info] Start training from score 0.082375\n",
            "[LightGBM] [Info] Start training from score 0.082500\n",
            "Training until validation scores don't improve for 100 rounds\n",
            "Early stopping, best iteration is:\n",
            "[524]\tcv_agg's valid auc: 0.727682 + 0.0220251\n",
            "[LightGBM] [Warning] Unknown parameter: importance_type\n",
            "[LightGBM] [Warning] Unknown parameter: importance_type\n",
            "[LightGBM] [Info] Auto-choosing row-wise multi-threading, the overhead of testing was 0.003829 seconds.\n",
            "You can set `force_row_wise=true` to remove the overhead.\n",
            "And if memory is not enough, you can set `force_col_wise=true`.\n",
            "[LightGBM] [Info] Total Bins 9997\n",
            "[LightGBM] [Info] Number of data points in the train set: 8000, number of used features: 93\n",
            "[LightGBM] [Warning] Unknown parameter: importance_type\n",
            "[LightGBM] [Warning] Unknown parameter: importance_type\n",
            "[LightGBM] [Info] Auto-choosing row-wise multi-threading, the overhead of testing was 0.010947 seconds.\n",
            "You can set `force_row_wise=true` to remove the overhead.\n",
            "And if memory is not enough, you can set `force_col_wise=true`.\n",
            "[LightGBM] [Info] Total Bins 9997\n",
            "[LightGBM] [Info] Number of data points in the train set: 8000, number of used features: 93\n",
            "[LightGBM] [Warning] Unknown parameter: importance_type\n",
            "[LightGBM] [Warning] Unknown parameter: importance_type\n",
            "[LightGBM] [Info] Auto-choosing row-wise multi-threading, the overhead of testing was 0.003884 seconds.\n",
            "You can set `force_row_wise=true` to remove the overhead.\n",
            "And if memory is not enough, you can set `force_col_wise=true`.\n",
            "[LightGBM] [Info] Total Bins 9997\n",
            "[LightGBM] [Info] Number of data points in the train set: 8000, number of used features: 93\n",
            "[LightGBM] [Warning] Unknown parameter: importance_type\n",
            "[LightGBM] [Warning] Unknown parameter: importance_type\n",
            "[LightGBM] [Info] Auto-choosing row-wise multi-threading, the overhead of testing was 0.004514 seconds.\n",
            "You can set `force_row_wise=true` to remove the overhead.\n",
            "And if memory is not enough, you can set `force_col_wise=true`.\n",
            "[LightGBM] [Info] Total Bins 9997\n",
            "[LightGBM] [Info] Number of data points in the train set: 8000, number of used features: 93\n",
            "[LightGBM] [Warning] Unknown parameter: importance_type\n",
            "[LightGBM] [Warning] Unknown parameter: importance_type\n",
            "[LightGBM] [Info] Auto-choosing row-wise multi-threading, the overhead of testing was 0.003896 seconds.\n",
            "You can set `force_row_wise=true` to remove the overhead.\n",
            "And if memory is not enough, you can set `force_col_wise=true`.\n",
            "[LightGBM] [Info] Total Bins 9997\n",
            "[LightGBM] [Info] Number of data points in the train set: 8000, number of used features: 93\n",
            "[LightGBM] [Warning] Unknown parameter: importance_type\n",
            "[LightGBM] [Info] Start training from score 0.082375\n",
            "[LightGBM] [Info] Start training from score 0.082375\n",
            "[LightGBM] [Info] Start training from score 0.082375\n",
            "[LightGBM] [Info] Start training from score 0.082375\n",
            "[LightGBM] [Info] Start training from score 0.082500\n",
            "Training until validation scores don't improve for 100 rounds\n",
            "Early stopping, best iteration is:\n",
            "[524]\tcv_agg's valid auc: 0.727682 + 0.0220251\n",
            "[LightGBM] [Warning] Unknown parameter: importance_type\n",
            "[LightGBM] [Warning] Unknown parameter: importance_type\n",
            "[LightGBM] [Info] Auto-choosing row-wise multi-threading, the overhead of testing was 0.004894 seconds.\n",
            "You can set `force_row_wise=true` to remove the overhead.\n",
            "And if memory is not enough, you can set `force_col_wise=true`.\n",
            "[LightGBM] [Info] Total Bins 9997\n",
            "[LightGBM] [Info] Number of data points in the train set: 8000, number of used features: 93\n",
            "[LightGBM] [Warning] Unknown parameter: importance_type\n",
            "[LightGBM] [Warning] Unknown parameter: importance_type\n",
            "[LightGBM] [Info] Auto-choosing row-wise multi-threading, the overhead of testing was 0.004087 seconds.\n",
            "You can set `force_row_wise=true` to remove the overhead.\n",
            "And if memory is not enough, you can set `force_col_wise=true`.\n",
            "[LightGBM] [Info] Total Bins 9997\n",
            "[LightGBM] [Info] Number of data points in the train set: 8000, number of used features: 93\n",
            "[LightGBM] [Warning] Unknown parameter: importance_type\n",
            "[LightGBM] [Warning] Unknown parameter: importance_type\n",
            "[LightGBM] [Info] Auto-choosing row-wise multi-threading, the overhead of testing was 0.003844 seconds.\n",
            "You can set `force_row_wise=true` to remove the overhead.\n",
            "And if memory is not enough, you can set `force_col_wise=true`.\n",
            "[LightGBM] [Info] Total Bins 9997\n",
            "[LightGBM] [Info] Number of data points in the train set: 8000, number of used features: 93\n",
            "[LightGBM] [Warning] Unknown parameter: importance_type\n",
            "[LightGBM] [Warning] Unknown parameter: importance_type\n",
            "[LightGBM] [Info] Auto-choosing row-wise multi-threading, the overhead of testing was 0.003900 seconds.\n",
            "You can set `force_row_wise=true` to remove the overhead.\n",
            "And if memory is not enough, you can set `force_col_wise=true`.\n",
            "[LightGBM] [Info] Total Bins 9997\n",
            "[LightGBM] [Info] Number of data points in the train set: 8000, number of used features: 93\n",
            "[LightGBM] [Warning] Unknown parameter: importance_type\n",
            "[LightGBM] [Warning] Unknown parameter: importance_type\n",
            "[LightGBM] [Info] Auto-choosing row-wise multi-threading, the overhead of testing was 0.010988 seconds.\n",
            "You can set `force_row_wise=true` to remove the overhead.\n",
            "And if memory is not enough, you can set `force_col_wise=true`.\n",
            "[LightGBM] [Info] Total Bins 9997\n",
            "[LightGBM] [Info] Number of data points in the train set: 8000, number of used features: 93\n",
            "[LightGBM] [Warning] Unknown parameter: importance_type\n",
            "[LightGBM] [Info] Start training from score 0.082375\n",
            "[LightGBM] [Info] Start training from score 0.082375\n",
            "[LightGBM] [Info] Start training from score 0.082375\n",
            "[LightGBM] [Info] Start training from score 0.082375\n",
            "[LightGBM] [Info] Start training from score 0.082500\n",
            "Training until validation scores don't improve for 100 rounds\n",
            "Early stopping, best iteration is:\n",
            "[524]\tcv_agg's valid auc: 0.727682 + 0.0220251\n",
            "[LightGBM] [Warning] Unknown parameter: importance_type\n",
            "[LightGBM] [Warning] Unknown parameter: importance_type\n",
            "[LightGBM] [Info] Auto-choosing row-wise multi-threading, the overhead of testing was 0.004422 seconds.\n",
            "You can set `force_row_wise=true` to remove the overhead.\n",
            "And if memory is not enough, you can set `force_col_wise=true`.\n",
            "[LightGBM] [Info] Total Bins 9997\n",
            "[LightGBM] [Info] Number of data points in the train set: 8000, number of used features: 93\n",
            "[LightGBM] [Warning] Unknown parameter: importance_type\n",
            "[LightGBM] [Warning] Unknown parameter: importance_type\n",
            "[LightGBM] [Info] Auto-choosing row-wise multi-threading, the overhead of testing was 0.004029 seconds.\n",
            "You can set `force_row_wise=true` to remove the overhead.\n",
            "And if memory is not enough, you can set `force_col_wise=true`.\n",
            "[LightGBM] [Info] Total Bins 9997\n",
            "[LightGBM] [Info] Number of data points in the train set: 8000, number of used features: 93\n",
            "[LightGBM] [Warning] Unknown parameter: importance_type\n",
            "[LightGBM] [Warning] Unknown parameter: importance_type\n",
            "[LightGBM] [Info] Auto-choosing row-wise multi-threading, the overhead of testing was 0.003865 seconds.\n",
            "You can set `force_row_wise=true` to remove the overhead.\n",
            "And if memory is not enough, you can set `force_col_wise=true`.\n",
            "[LightGBM] [Info] Total Bins 9997\n",
            "[LightGBM] [Info] Number of data points in the train set: 8000, number of used features: 93\n",
            "[LightGBM] [Warning] Unknown parameter: importance_type\n",
            "[LightGBM] [Warning] Unknown parameter: importance_type\n",
            "[LightGBM] [Info] Auto-choosing row-wise multi-threading, the overhead of testing was 0.003941 seconds.\n",
            "You can set `force_row_wise=true` to remove the overhead.\n",
            "And if memory is not enough, you can set `force_col_wise=true`.\n",
            "[LightGBM] [Info] Total Bins 9997\n",
            "[LightGBM] [Info] Number of data points in the train set: 8000, number of used features: 93\n",
            "[LightGBM] [Warning] Unknown parameter: importance_type\n",
            "[LightGBM] [Warning] Unknown parameter: importance_type\n",
            "[LightGBM] [Info] Auto-choosing row-wise multi-threading, the overhead of testing was 0.006808 seconds.\n",
            "You can set `force_row_wise=true` to remove the overhead.\n",
            "And if memory is not enough, you can set `force_col_wise=true`.\n",
            "[LightGBM] [Info] Total Bins 9997\n",
            "[LightGBM] [Info] Number of data points in the train set: 8000, number of used features: 93\n",
            "[LightGBM] [Warning] Unknown parameter: importance_type\n",
            "[LightGBM] [Info] Start training from score 0.082375\n",
            "[LightGBM] [Info] Start training from score 0.082375\n",
            "[LightGBM] [Info] Start training from score 0.082375\n",
            "[LightGBM] [Info] Start training from score 0.082375\n",
            "[LightGBM] [Info] Start training from score 0.082500\n",
            "Training until validation scores don't improve for 100 rounds\n",
            "Early stopping, best iteration is:\n",
            "[524]\tcv_agg's valid auc: 0.727682 + 0.0220251\n",
            "The best validation score was 0.72768\n",
            "\n",
            "The best hyperparameters were:\n",
            "{'boosting_type': 'gbdt',\n",
            " 'colsample_bytree': 0.6,\n",
            " 'is_unbalance': True,\n",
            " 'learning_rate': 0.004999999999999999,\n",
            " 'min_child_samples': 20,\n",
            " 'n_estimators': 524,\n",
            " 'num_leaves': 20,\n",
            " 'reg_alpha': 0.0,\n",
            " 'reg_lambda': 0.0,\n",
            " 'subsample': 0.5,\n",
            " 'subsample_for_bin': 20000}\n"
          ]
        }
      ],
      "source": [
        "grid_results = grid_search(param_grid)\n",
        "\n",
        "print('The best validation score was {:.5f}'.format(grid_results.loc[0, 'score']))\n",
        "print('\\nThe best hyperparameters were:')\n",
        "\n",
        "import pprint\n",
        "pprint.pprint(grid_results.loc[0, 'params'])"
      ]
    },
    {
      "cell_type": "code",
      "execution_count": 24,
      "metadata": {
        "colab": {
          "base_uri": "https://localhost:8080/"
        },
        "id": "Bz-AIIcS3X9M",
        "outputId": "08e73156-2aac-4f0e-a51a-90211bcee268"
      },
      "outputs": [
        {
          "name": "stdout",
          "output_type": "stream",
          "text": [
            "[LightGBM] [Info] Number of positive: 824, number of negative: 9176\n",
            "[LightGBM] [Info] Auto-choosing row-wise multi-threading, the overhead of testing was 0.008550 seconds.\n",
            "You can set `force_row_wise=true` to remove the overhead.\n",
            "And if memory is not enough, you can set `force_col_wise=true`.\n",
            "[LightGBM] [Info] Total Bins 9997\n",
            "[LightGBM] [Info] Number of data points in the train set: 10000, number of used features: 93\n",
            "[LightGBM] [Info] [binary:BoostFromScore]: pavg=0.082400 -> initscore=-2.410176\n",
            "[LightGBM] [Info] Start training from score -2.410176\n",
            "The best model from grid search scores 0.73066 ROC AUC on the test set.\n"
          ]
        }
      ],
      "source": [
        "# Get the best parameters\n",
        "grid_search_params = grid_results.loc[0, 'params']\n",
        "\n",
        "# Create, train, test model\n",
        "model = lgb.LGBMClassifier(**grid_search_params, random_state=42)\n",
        "model.fit(train_features, train_labels)\n",
        "\n",
        "preds = model.predict_proba(test_features)[:, 1]\n",
        "\n",
        "print('The best model from grid search scores {:.5f} ROC AUC on the test set.'.format(roc_auc_score(test_labels, preds)))"
      ]
    },
    {
      "cell_type": "markdown",
      "metadata": {
        "id": "mKMy9F7Q3C5z"
      },
      "source": [
        "### Random Search Implementation"
      ]
    },
    {
      "cell_type": "code",
      "execution_count": 25,
      "metadata": {
        "colab": {
          "base_uri": "https://localhost:8080/"
        },
        "id": "qbWY8Lml3ba7",
        "outputId": "39474127-fb98-4a1f-e844-1abeef6304a1"
      },
      "outputs": [
        {
          "data": {
            "text/plain": [
              "{'boosting_type': 'goss',\n",
              " 'num_leaves': 88,\n",
              " 'learning_rate': 0.027778881111994384,\n",
              " 'subsample_for_bin': 220000,\n",
              " 'min_child_samples': 175,\n",
              " 'reg_alpha': 0.8979591836734693,\n",
              " 'reg_lambda': 0.6122448979591836,\n",
              " 'colsample_bytree': 0.8222222222222222,\n",
              " 'subsample': 1.0,\n",
              " 'is_unbalance': False}"
            ]
          },
          "execution_count": 25,
          "metadata": {},
          "output_type": "execute_result"
        }
      ],
      "source": [
        "random.seed(50)\n",
        "\n",
        "# Randomly sample from dictionary\n",
        "random_params = {k: random.sample(v, 1)[0] for k, v in param_grid.items()}\n",
        "# Deal with subsample ratio\n",
        "random_params['subsample'] = 1.0 if random_params['boosting_type'] == 'goss' else random_params['subsample']\n",
        "\n",
        "random_params"
      ]
    },
    {
      "cell_type": "code",
      "execution_count": 26,
      "metadata": {
        "id": "YtClkrkd3dZj"
      },
      "outputs": [],
      "source": [
        "def random_search(param_grid, max_evals = 1):\n",
        "    \"\"\"Random search for hyperparameter optimization\"\"\"\n",
        "\n",
        "    # Dataframe for results\n",
        "    results = pd.DataFrame(columns = ['score', 'params', 'iteration'],\n",
        "                                  index = list(range(1)))\n",
        "\n",
        "    # Keep searching until reach max evaluations\n",
        "    for i in range(1):\n",
        "\n",
        "        # Choose random hyperparameters\n",
        "        hyperparameters = {k: random.sample(v, 1)[0] for k, v in param_grid.items()}\n",
        "        hyperparameters['subsample'] = 1.0 if hyperparameters['boosting_type'] == 'goss' else hyperparameters['subsample']\n",
        "\n",
        "        # Evaluate randomly selected hyperparameters\n",
        "        eval_results = objective(hyperparameters, i)\n",
        "\n",
        "        results.loc[i, :] = eval_results\n",
        "\n",
        "    # Sort with best score on top\n",
        "    results.sort_values('score', ascending = False, inplace = True)\n",
        "    results.reset_index(inplace = True)\n",
        "    return results"
      ]
    },
    {
      "cell_type": "code",
      "execution_count": 27,
      "metadata": {
        "colab": {
          "base_uri": "https://localhost:8080/"
        },
        "id": "U2hQ-UJa3d30",
        "outputId": "a2064033-e821-4723-9ccd-81db6212cb6a"
      },
      "outputs": [
        {
          "name": "stdout",
          "output_type": "stream",
          "text": [
            "[LightGBM] [Warning] Unknown parameter: importance_type\n",
            "[LightGBM] [Warning] Unknown parameter: importance_type\n",
            "[LightGBM] [Warning] Unknown parameter: importance_type\n",
            "[LightGBM] [Info] Auto-choosing col-wise multi-threading, the overhead of testing was 0.025113 seconds.\n",
            "You can set `force_col_wise=true` to remove the overhead.\n",
            "[LightGBM] [Info] Total Bins 9979\n",
            "[LightGBM] [Info] Number of data points in the train set: 8000, number of used features: 84\n",
            "[LightGBM] [Warning] Unknown parameter: importance_type\n",
            "[LightGBM] [Warning] Unknown parameter: importance_type\n",
            "[LightGBM] [Info] Auto-choosing col-wise multi-threading, the overhead of testing was 0.018669 seconds.\n",
            "You can set `force_col_wise=true` to remove the overhead.\n",
            "[LightGBM] [Info] Total Bins 9979\n",
            "[LightGBM] [Info] Number of data points in the train set: 8000, number of used features: 84\n",
            "[LightGBM] [Warning] Unknown parameter: importance_type\n",
            "[LightGBM] [Warning] Unknown parameter: importance_type\n",
            "[LightGBM] [Info] Auto-choosing row-wise multi-threading, the overhead of testing was 0.004588 seconds.\n",
            "You can set `force_row_wise=true` to remove the overhead.\n",
            "And if memory is not enough, you can set `force_col_wise=true`.\n",
            "[LightGBM] [Info] Total Bins 9979\n",
            "[LightGBM] [Info] Number of data points in the train set: 8000, number of used features: 84\n",
            "[LightGBM] [Warning] Unknown parameter: importance_type\n",
            "[LightGBM] [Warning] Unknown parameter: importance_type\n",
            "[LightGBM] [Info] Auto-choosing col-wise multi-threading, the overhead of testing was 0.010602 seconds.\n",
            "You can set `force_col_wise=true` to remove the overhead.\n",
            "[LightGBM] [Info] Total Bins 9979\n",
            "[LightGBM] [Info] Number of data points in the train set: 8000, number of used features: 84\n",
            "[LightGBM] [Warning] Unknown parameter: importance_type\n",
            "[LightGBM] [Warning] Unknown parameter: importance_type\n",
            "[LightGBM] [Info] Auto-choosing row-wise multi-threading, the overhead of testing was 0.004080 seconds.\n",
            "You can set `force_row_wise=true` to remove the overhead.\n",
            "And if memory is not enough, you can set `force_col_wise=true`.\n",
            "[LightGBM] [Info] Total Bins 9979\n",
            "[LightGBM] [Info] Number of data points in the train set: 8000, number of used features: 84\n",
            "[LightGBM] [Warning] Unknown parameter: importance_type\n",
            "[LightGBM] [Info] Start training from score 0.082375\n",
            "[LightGBM] [Warning] No further splits with positive gain, best gain: -inf\n",
            "[LightGBM] [Info] Start training from score 0.082375\n",
            "[LightGBM] [Warning] No further splits with positive gain, best gain: -inf\n",
            "[LightGBM] [Info] Start training from score 0.082375\n",
            "[LightGBM] [Warning] No further splits with positive gain, best gain: -inf\n",
            "[LightGBM] [Info] Start training from score 0.082375\n",
            "[LightGBM] [Warning] No further splits with positive gain, best gain: -inf\n",
            "[LightGBM] [Info] Start training from score 0.082500\n",
            "[LightGBM] [Warning] No further splits with positive gain, best gain: -inf\n",
            "Training until validation scores don't improve for 100 rounds\n",
            "[LightGBM] [Warning] No further splits with positive gain, best gain: -inf\n",
            "[LightGBM] [Warning] No further splits with positive gain, best gain: -inf\n",
            "[LightGBM] [Warning] No further splits with positive gain, best gain: -inf\n",
            "[LightGBM] [Warning] No further splits with positive gain, best gain: -inf\n",
            "[LightGBM] [Warning] No further splits with positive gain, best gain: -inf\n",
            "[LightGBM] [Warning] No further splits with positive gain, best gain: -inf\n",
            "[LightGBM] [Warning] No further splits with positive gain, best gain: -inf\n",
            "[LightGBM] [Warning] No further splits with positive gain, best gain: -inf\n",
            "[LightGBM] [Warning] No further splits with positive gain, best gain: -inf\n",
            "[LightGBM] [Warning] No further splits with positive gain, best gain: -inf\n",
            "[LightGBM] [Warning] No further splits with positive gain, best gain: -inf\n",
            "[LightGBM] [Warning] No further splits with positive gain, best gain: -inf\n",
            "[LightGBM] [Warning] No further splits with positive gain, best gain: -inf\n",
            "[LightGBM] [Warning] No further splits with positive gain, best gain: -inf\n",
            "[LightGBM] [Warning] No further splits with positive gain, best gain: -inf\n",
            "[LightGBM] [Warning] No further splits with positive gain, best gain: -inf\n",
            "[LightGBM] [Warning] No further splits with positive gain, best gain: -inf\n",
            "[LightGBM] [Warning] No further splits with positive gain, best gain: -inf\n",
            "[LightGBM] [Warning] No further splits with positive gain, best gain: -inf\n",
            "[LightGBM] [Warning] No further splits with positive gain, best gain: -inf\n",
            "[LightGBM] [Warning] No further splits with positive gain, best gain: -inf\n",
            "[LightGBM] [Warning] No further splits with positive gain, best gain: -inf\n",
            "[LightGBM] [Warning] No further splits with positive gain, best gain: -inf\n",
            "[LightGBM] [Warning] No further splits with positive gain, best gain: -inf\n",
            "[LightGBM] [Warning] No further splits with positive gain, best gain: -inf\n",
            "[LightGBM] [Warning] No further splits with positive gain, best gain: -inf\n",
            "[LightGBM] [Warning] No further splits with positive gain, best gain: -inf\n",
            "[LightGBM] [Warning] No further splits with positive gain, best gain: -inf\n",
            "[LightGBM] [Warning] No further splits with positive gain, best gain: -inf\n",
            "[LightGBM] [Warning] No further splits with positive gain, best gain: -inf\n",
            "[LightGBM] [Warning] No further splits with positive gain, best gain: -inf\n",
            "[LightGBM] [Warning] No further splits with positive gain, best gain: -inf\n",
            "[LightGBM] [Warning] No further splits with positive gain, best gain: -inf\n",
            "[LightGBM] [Warning] No further splits with positive gain, best gain: -inf\n",
            "[LightGBM] [Warning] No further splits with positive gain, best gain: -inf\n",
            "[LightGBM] [Warning] No further splits with positive gain, best gain: -inf\n",
            "[LightGBM] [Warning] No further splits with positive gain, best gain: -inf\n",
            "[LightGBM] [Warning] No further splits with positive gain, best gain: -inf\n",
            "[LightGBM] [Warning] No further splits with positive gain, best gain: -inf\n",
            "[LightGBM] [Warning] No further splits with positive gain, best gain: -inf\n",
            "[LightGBM] [Warning] No further splits with positive gain, best gain: -inf\n",
            "[LightGBM] [Warning] No further splits with positive gain, best gain: -inf\n",
            "[LightGBM] [Warning] No further splits with positive gain, best gain: -inf\n",
            "[LightGBM] [Warning] No further splits with positive gain, best gain: -inf\n",
            "[LightGBM] [Warning] No further splits with positive gain, best gain: -inf\n",
            "[LightGBM] [Warning] No further splits with positive gain, best gain: -inf\n",
            "[LightGBM] [Warning] No further splits with positive gain, best gain: -inf\n",
            "[LightGBM] [Warning] No further splits with positive gain, best gain: -inf\n",
            "[LightGBM] [Warning] No further splits with positive gain, best gain: -inf\n",
            "[LightGBM] [Warning] No further splits with positive gain, best gain: -inf\n",
            "[LightGBM] [Warning] No further splits with positive gain, best gain: -inf\n",
            "[LightGBM] [Warning] No further splits with positive gain, best gain: -inf\n",
            "[LightGBM] [Warning] No further splits with positive gain, best gain: -inf\n",
            "[LightGBM] [Warning] No further splits with positive gain, best gain: -inf\n",
            "[LightGBM] [Warning] No further splits with positive gain, best gain: -inf\n",
            "[LightGBM] [Warning] No further splits with positive gain, best gain: -inf\n",
            "[LightGBM] [Warning] No further splits with positive gain, best gain: -inf\n",
            "[LightGBM] [Warning] No further splits with positive gain, best gain: -inf\n",
            "[LightGBM] [Warning] No further splits with positive gain, best gain: -inf\n",
            "[LightGBM] [Warning] No further splits with positive gain, best gain: -inf\n",
            "[LightGBM] [Warning] No further splits with positive gain, best gain: -inf\n",
            "[LightGBM] [Warning] No further splits with positive gain, best gain: -inf\n",
            "[LightGBM] [Warning] No further splits with positive gain, best gain: -inf\n",
            "[LightGBM] [Warning] No further splits with positive gain, best gain: -inf\n",
            "[LightGBM] [Warning] No further splits with positive gain, best gain: -inf\n",
            "[LightGBM] [Warning] No further splits with positive gain, best gain: -inf\n",
            "[LightGBM] [Warning] No further splits with positive gain, best gain: -inf\n",
            "[LightGBM] [Warning] No further splits with positive gain, best gain: -inf\n",
            "[LightGBM] [Warning] No further splits with positive gain, best gain: -inf\n",
            "[LightGBM] [Warning] No further splits with positive gain, best gain: -inf\n",
            "[LightGBM] [Warning] No further splits with positive gain, best gain: -inf\n",
            "[LightGBM] [Warning] No further splits with positive gain, best gain: -inf\n",
            "[LightGBM] [Warning] No further splits with positive gain, best gain: -inf\n",
            "[LightGBM] [Warning] No further splits with positive gain, best gain: -inf\n",
            "[LightGBM] [Warning] No further splits with positive gain, best gain: -inf\n",
            "[LightGBM] [Warning] No further splits with positive gain, best gain: -inf\n",
            "[LightGBM] [Warning] No further splits with positive gain, best gain: -inf\n",
            "[LightGBM] [Warning] No further splits with positive gain, best gain: -inf\n",
            "[LightGBM] [Warning] No further splits with positive gain, best gain: -inf\n",
            "[LightGBM] [Warning] No further splits with positive gain, best gain: -inf\n",
            "[LightGBM] [Warning] No further splits with positive gain, best gain: -inf\n",
            "[LightGBM] [Warning] No further splits with positive gain, best gain: -inf\n",
            "[LightGBM] [Warning] No further splits with positive gain, best gain: -inf\n",
            "[LightGBM] [Warning] No further splits with positive gain, best gain: -inf\n",
            "[LightGBM] [Warning] No further splits with positive gain, best gain: -inf\n",
            "[LightGBM] [Warning] No further splits with positive gain, best gain: -inf\n",
            "[LightGBM] [Warning] No further splits with positive gain, best gain: -inf\n",
            "[LightGBM] [Warning] No further splits with positive gain, best gain: -inf\n",
            "[LightGBM] [Warning] No further splits with positive gain, best gain: -inf\n",
            "[LightGBM] [Warning] No further splits with positive gain, best gain: -inf\n",
            "[LightGBM] [Warning] No further splits with positive gain, best gain: -inf\n",
            "[LightGBM] [Warning] No further splits with positive gain, best gain: -inf\n",
            "[LightGBM] [Warning] No further splits with positive gain, best gain: -inf\n",
            "[LightGBM] [Warning] No further splits with positive gain, best gain: -inf\n",
            "[LightGBM] [Warning] No further splits with positive gain, best gain: -inf\n",
            "[LightGBM] [Warning] No further splits with positive gain, best gain: -inf\n",
            "[LightGBM] [Warning] No further splits with positive gain, best gain: -inf\n",
            "[LightGBM] [Warning] No further splits with positive gain, best gain: -inf\n",
            "[LightGBM] [Warning] No further splits with positive gain, best gain: -inf\n",
            "[LightGBM] [Warning] No further splits with positive gain, best gain: -inf\n",
            "[LightGBM] [Warning] No further splits with positive gain, best gain: -inf\n",
            "[LightGBM] [Warning] No further splits with positive gain, best gain: -inf\n",
            "[LightGBM] [Warning] No further splits with positive gain, best gain: -inf\n",
            "[LightGBM] [Warning] No further splits with positive gain, best gain: -inf\n",
            "[LightGBM] [Warning] No further splits with positive gain, best gain: -inf\n",
            "[LightGBM] [Warning] No further splits with positive gain, best gain: -inf\n",
            "[LightGBM] [Warning] No further splits with positive gain, best gain: -inf\n",
            "[LightGBM] [Warning] No further splits with positive gain, best gain: -inf\n",
            "[LightGBM] [Warning] No further splits with positive gain, best gain: -inf\n",
            "[LightGBM] [Warning] No further splits with positive gain, best gain: -inf\n",
            "[LightGBM] [Warning] No further splits with positive gain, best gain: -inf\n",
            "[LightGBM] [Warning] No further splits with positive gain, best gain: -inf\n",
            "[LightGBM] [Warning] No further splits with positive gain, best gain: -inf\n",
            "[LightGBM] [Warning] No further splits with positive gain, best gain: -inf\n",
            "[LightGBM] [Warning] No further splits with positive gain, best gain: -inf\n",
            "[LightGBM] [Warning] No further splits with positive gain, best gain: -inf\n",
            "[LightGBM] [Warning] No further splits with positive gain, best gain: -inf\n",
            "[LightGBM] [Warning] No further splits with positive gain, best gain: -inf\n",
            "[LightGBM] [Warning] No further splits with positive gain, best gain: -inf\n",
            "[LightGBM] [Warning] No further splits with positive gain, best gain: -inf\n",
            "[LightGBM] [Warning] No further splits with positive gain, best gain: -inf\n",
            "[LightGBM] [Warning] No further splits with positive gain, best gain: -inf\n",
            "[LightGBM] [Warning] No further splits with positive gain, best gain: -inf\n",
            "[LightGBM] [Warning] No further splits with positive gain, best gain: -inf\n",
            "[LightGBM] [Warning] No further splits with positive gain, best gain: -inf\n",
            "[LightGBM] [Warning] No further splits with positive gain, best gain: -inf\n",
            "[LightGBM] [Warning] No further splits with positive gain, best gain: -inf\n",
            "[LightGBM] [Warning] No further splits with positive gain, best gain: -inf\n",
            "[LightGBM] [Warning] No further splits with positive gain, best gain: -inf\n",
            "[LightGBM] [Warning] No further splits with positive gain, best gain: -inf\n",
            "[LightGBM] [Warning] No further splits with positive gain, best gain: -inf\n",
            "[LightGBM] [Warning] No further splits with positive gain, best gain: -inf\n",
            "[LightGBM] [Warning] No further splits with positive gain, best gain: -inf\n",
            "[LightGBM] [Warning] No further splits with positive gain, best gain: -inf\n",
            "[LightGBM] [Warning] No further splits with positive gain, best gain: -inf\n",
            "[LightGBM] [Warning] No further splits with positive gain, best gain: -inf\n",
            "[LightGBM] [Warning] No further splits with positive gain, best gain: -inf\n",
            "[LightGBM] [Warning] No further splits with positive gain, best gain: -inf\n",
            "[LightGBM] [Warning] No further splits with positive gain, best gain: -inf\n",
            "[LightGBM] [Warning] No further splits with positive gain, best gain: -inf\n",
            "[LightGBM] [Warning] No further splits with positive gain, best gain: -inf\n",
            "[LightGBM] [Warning] No further splits with positive gain, best gain: -inf\n",
            "[LightGBM] [Warning] No further splits with positive gain, best gain: -inf\n",
            "[LightGBM] [Warning] No further splits with positive gain, best gain: -inf\n",
            "[LightGBM] [Warning] No further splits with positive gain, best gain: -inf\n",
            "[LightGBM] [Warning] No further splits with positive gain, best gain: -inf\n",
            "[LightGBM] [Warning] No further splits with positive gain, best gain: -inf\n",
            "[LightGBM] [Warning] No further splits with positive gain, best gain: -inf\n",
            "[LightGBM] [Warning] No further splits with positive gain, best gain: -inf\n",
            "[LightGBM] [Warning] No further splits with positive gain, best gain: -inf\n",
            "[LightGBM] [Warning] No further splits with positive gain, best gain: -inf\n",
            "[LightGBM] [Warning] No further splits with positive gain, best gain: -inf\n",
            "[LightGBM] [Warning] No further splits with positive gain, best gain: -inf\n",
            "[LightGBM] [Warning] No further splits with positive gain, best gain: -inf\n",
            "[LightGBM] [Warning] No further splits with positive gain, best gain: -inf\n",
            "[LightGBM] [Warning] No further splits with positive gain, best gain: -inf\n",
            "[LightGBM] [Warning] No further splits with positive gain, best gain: -inf\n",
            "[LightGBM] [Warning] No further splits with positive gain, best gain: -inf\n",
            "[LightGBM] [Warning] No further splits with positive gain, best gain: -inf\n",
            "[LightGBM] [Warning] No further splits with positive gain, best gain: -inf\n",
            "[LightGBM] [Warning] No further splits with positive gain, best gain: -inf\n",
            "[LightGBM] [Warning] No further splits with positive gain, best gain: -inf\n",
            "[LightGBM] [Warning] No further splits with positive gain, best gain: -inf\n",
            "[LightGBM] [Warning] No further splits with positive gain, best gain: -inf\n",
            "[LightGBM] [Warning] No further splits with positive gain, best gain: -inf\n",
            "[LightGBM] [Warning] No further splits with positive gain, best gain: -inf\n",
            "[LightGBM] [Warning] No further splits with positive gain, best gain: -inf\n",
            "[LightGBM] [Warning] No further splits with positive gain, best gain: -inf\n",
            "[LightGBM] [Warning] No further splits with positive gain, best gain: -inf\n",
            "[LightGBM] [Warning] No further splits with positive gain, best gain: -inf\n",
            "[LightGBM] [Warning] No further splits with positive gain, best gain: -inf\n",
            "[LightGBM] [Warning] No further splits with positive gain, best gain: -inf\n",
            "[LightGBM] [Warning] No further splits with positive gain, best gain: -inf\n",
            "[LightGBM] [Warning] No further splits with positive gain, best gain: -inf\n",
            "[LightGBM] [Warning] No further splits with positive gain, best gain: -inf\n",
            "[LightGBM] [Warning] No further splits with positive gain, best gain: -inf\n",
            "[LightGBM] [Warning] No further splits with positive gain, best gain: -inf\n",
            "[LightGBM] [Warning] No further splits with positive gain, best gain: -inf\n",
            "[LightGBM] [Warning] No further splits with positive gain, best gain: -inf\n",
            "[LightGBM] [Warning] No further splits with positive gain, best gain: -inf\n",
            "[LightGBM] [Warning] No further splits with positive gain, best gain: -inf\n",
            "[LightGBM] [Warning] No further splits with positive gain, best gain: -inf\n",
            "[LightGBM] [Warning] No further splits with positive gain, best gain: -inf\n",
            "[LightGBM] [Warning] No further splits with positive gain, best gain: -inf\n",
            "[LightGBM] [Warning] No further splits with positive gain, best gain: -inf\n",
            "[LightGBM] [Warning] No further splits with positive gain, best gain: -inf\n",
            "[LightGBM] [Warning] No further splits with positive gain, best gain: -inf\n",
            "[LightGBM] [Warning] No further splits with positive gain, best gain: -inf\n",
            "[LightGBM] [Warning] No further splits with positive gain, best gain: -inf\n",
            "[LightGBM] [Warning] No further splits with positive gain, best gain: -inf\n",
            "[LightGBM] [Warning] No further splits with positive gain, best gain: -inf\n",
            "[LightGBM] [Warning] No further splits with positive gain, best gain: -inf\n",
            "[LightGBM] [Warning] No further splits with positive gain, best gain: -inf\n",
            "[LightGBM] [Warning] No further splits with positive gain, best gain: -inf\n",
            "[LightGBM] [Warning] No further splits with positive gain, best gain: -inf\n",
            "[LightGBM] [Warning] No further splits with positive gain, best gain: -inf\n",
            "[LightGBM] [Warning] No further splits with positive gain, best gain: -inf\n",
            "[LightGBM] [Warning] No further splits with positive gain, best gain: -inf\n",
            "[LightGBM] [Warning] No further splits with positive gain, best gain: -inf\n",
            "[LightGBM] [Warning] No further splits with positive gain, best gain: -inf\n",
            "[LightGBM] [Warning] No further splits with positive gain, best gain: -inf\n",
            "[LightGBM] [Warning] No further splits with positive gain, best gain: -inf\n",
            "[LightGBM] [Warning] No further splits with positive gain, best gain: -inf\n",
            "[LightGBM] [Warning] No further splits with positive gain, best gain: -inf\n",
            "[LightGBM] [Warning] No further splits with positive gain, best gain: -inf\n",
            "[LightGBM] [Warning] No further splits with positive gain, best gain: -inf\n",
            "[LightGBM] [Warning] No further splits with positive gain, best gain: -inf\n",
            "[LightGBM] [Warning] No further splits with positive gain, best gain: -inf\n",
            "[LightGBM] [Warning] No further splits with positive gain, best gain: -inf\n",
            "[LightGBM] [Warning] No further splits with positive gain, best gain: -inf\n",
            "[LightGBM] [Warning] No further splits with positive gain, best gain: -inf\n",
            "[LightGBM] [Warning] No further splits with positive gain, best gain: -inf\n",
            "[LightGBM] [Warning] No further splits with positive gain, best gain: -inf\n",
            "[LightGBM] [Warning] No further splits with positive gain, best gain: -inf\n",
            "[LightGBM] [Warning] No further splits with positive gain, best gain: -inf\n",
            "[LightGBM] [Warning] No further splits with positive gain, best gain: -inf\n",
            "[LightGBM] [Warning] No further splits with positive gain, best gain: -inf\n",
            "[LightGBM] [Warning] No further splits with positive gain, best gain: -inf\n",
            "[LightGBM] [Warning] No further splits with positive gain, best gain: -inf\n",
            "[LightGBM] [Warning] No further splits with positive gain, best gain: -inf\n",
            "[LightGBM] [Warning] No further splits with positive gain, best gain: -inf\n",
            "[LightGBM] [Warning] No further splits with positive gain, best gain: -inf\n",
            "[LightGBM] [Warning] No further splits with positive gain, best gain: -inf\n",
            "[LightGBM] [Warning] No further splits with positive gain, best gain: -inf\n",
            "[LightGBM] [Warning] No further splits with positive gain, best gain: -inf\n",
            "[LightGBM] [Warning] No further splits with positive gain, best gain: -inf\n",
            "[LightGBM] [Warning] No further splits with positive gain, best gain: -inf\n",
            "[LightGBM] [Warning] No further splits with positive gain, best gain: -inf\n",
            "[LightGBM] [Warning] No further splits with positive gain, best gain: -inf\n",
            "[LightGBM] [Warning] No further splits with positive gain, best gain: -inf\n",
            "[LightGBM] [Warning] No further splits with positive gain, best gain: -inf\n",
            "[LightGBM] [Warning] No further splits with positive gain, best gain: -inf\n",
            "[LightGBM] [Warning] No further splits with positive gain, best gain: -inf\n",
            "[LightGBM] [Warning] No further splits with positive gain, best gain: -inf\n",
            "[LightGBM] [Warning] No further splits with positive gain, best gain: -inf\n",
            "[LightGBM] [Warning] No further splits with positive gain, best gain: -inf\n",
            "[LightGBM] [Warning] No further splits with positive gain, best gain: -inf\n",
            "[LightGBM] [Warning] No further splits with positive gain, best gain: -inf\n",
            "[LightGBM] [Warning] No further splits with positive gain, best gain: -inf\n",
            "[LightGBM] [Warning] No further splits with positive gain, best gain: -inf\n",
            "[LightGBM] [Warning] No further splits with positive gain, best gain: -inf\n",
            "[LightGBM] [Warning] No further splits with positive gain, best gain: -inf\n",
            "[LightGBM] [Warning] No further splits with positive gain, best gain: -inf\n",
            "[LightGBM] [Warning] No further splits with positive gain, best gain: -inf\n",
            "[LightGBM] [Warning] No further splits with positive gain, best gain: -inf\n",
            "[LightGBM] [Warning] No further splits with positive gain, best gain: -inf\n",
            "[LightGBM] [Warning] No further splits with positive gain, best gain: -inf\n",
            "[LightGBM] [Warning] No further splits with positive gain, best gain: -inf\n",
            "[LightGBM] [Warning] No further splits with positive gain, best gain: -inf\n",
            "[LightGBM] [Warning] No further splits with positive gain, best gain: -inf\n",
            "[LightGBM] [Warning] No further splits with positive gain, best gain: -inf\n",
            "[LightGBM] [Warning] No further splits with positive gain, best gain: -inf\n",
            "[LightGBM] [Warning] No further splits with positive gain, best gain: -inf\n",
            "[LightGBM] [Warning] No further splits with positive gain, best gain: -inf\n",
            "[LightGBM] [Warning] No further splits with positive gain, best gain: -inf\n",
            "[LightGBM] [Warning] No further splits with positive gain, best gain: -inf\n",
            "[LightGBM] [Warning] No further splits with positive gain, best gain: -inf\n",
            "[LightGBM] [Warning] No further splits with positive gain, best gain: -inf\n",
            "[LightGBM] [Warning] No further splits with positive gain, best gain: -inf\n",
            "[LightGBM] [Warning] No further splits with positive gain, best gain: -inf\n",
            "[LightGBM] [Warning] No further splits with positive gain, best gain: -inf\n",
            "[LightGBM] [Warning] No further splits with positive gain, best gain: -inf\n",
            "[LightGBM] [Warning] No further splits with positive gain, best gain: -inf\n",
            "[LightGBM] [Warning] No further splits with positive gain, best gain: -inf\n",
            "[LightGBM] [Warning] No further splits with positive gain, best gain: -inf\n",
            "[LightGBM] [Warning] No further splits with positive gain, best gain: -inf\n",
            "[LightGBM] [Warning] No further splits with positive gain, best gain: -inf\n",
            "[LightGBM] [Warning] No further splits with positive gain, best gain: -inf\n",
            "[LightGBM] [Warning] No further splits with positive gain, best gain: -inf\n",
            "[LightGBM] [Warning] No further splits with positive gain, best gain: -inf\n",
            "[LightGBM] [Warning] No further splits with positive gain, best gain: -inf\n",
            "[LightGBM] [Warning] No further splits with positive gain, best gain: -inf\n",
            "[LightGBM] [Warning] No further splits with positive gain, best gain: -inf\n",
            "[LightGBM] [Warning] No further splits with positive gain, best gain: -inf\n",
            "[LightGBM] [Warning] No further splits with positive gain, best gain: -inf\n",
            "[LightGBM] [Warning] No further splits with positive gain, best gain: -inf\n",
            "[LightGBM] [Warning] No further splits with positive gain, best gain: -inf\n",
            "[LightGBM] [Warning] No further splits with positive gain, best gain: -inf\n",
            "[LightGBM] [Warning] No further splits with positive gain, best gain: -inf\n",
            "[LightGBM] [Warning] No further splits with positive gain, best gain: -inf\n",
            "[LightGBM] [Warning] No further splits with positive gain, best gain: -inf\n",
            "[LightGBM] [Warning] No further splits with positive gain, best gain: -inf\n",
            "[LightGBM] [Warning] No further splits with positive gain, best gain: -inf\n",
            "[LightGBM] [Warning] No further splits with positive gain, best gain: -inf\n",
            "[LightGBM] [Warning] No further splits with positive gain, best gain: -inf\n",
            "[LightGBM] [Warning] No further splits with positive gain, best gain: -inf\n",
            "[LightGBM] [Warning] No further splits with positive gain, best gain: -inf\n",
            "[LightGBM] [Warning] No further splits with positive gain, best gain: -inf\n",
            "[LightGBM] [Warning] No further splits with positive gain, best gain: -inf\n",
            "[LightGBM] [Warning] No further splits with positive gain, best gain: -inf\n",
            "[LightGBM] [Warning] No further splits with positive gain, best gain: -inf\n",
            "[LightGBM] [Warning] No further splits with positive gain, best gain: -inf\n",
            "[LightGBM] [Warning] No further splits with positive gain, best gain: -inf\n",
            "[LightGBM] [Warning] No further splits with positive gain, best gain: -inf\n",
            "[LightGBM] [Warning] No further splits with positive gain, best gain: -inf\n",
            "[LightGBM] [Warning] No further splits with positive gain, best gain: -inf\n",
            "[LightGBM] [Warning] No further splits with positive gain, best gain: -inf\n",
            "[LightGBM] [Warning] No further splits with positive gain, best gain: -inf\n",
            "[LightGBM] [Warning] No further splits with positive gain, best gain: -inf\n",
            "[LightGBM] [Warning] No further splits with positive gain, best gain: -inf\n",
            "[LightGBM] [Warning] No further splits with positive gain, best gain: -inf\n",
            "[LightGBM] [Warning] No further splits with positive gain, best gain: -inf\n",
            "[LightGBM] [Warning] No further splits with positive gain, best gain: -inf\n",
            "[LightGBM] [Warning] No further splits with positive gain, best gain: -inf\n",
            "[LightGBM] [Warning] No further splits with positive gain, best gain: -inf\n",
            "[LightGBM] [Warning] No further splits with positive gain, best gain: -inf\n",
            "[LightGBM] [Warning] No further splits with positive gain, best gain: -inf\n",
            "[LightGBM] [Warning] No further splits with positive gain, best gain: -inf\n",
            "[LightGBM] [Warning] No further splits with positive gain, best gain: -inf\n",
            "[LightGBM] [Warning] No further splits with positive gain, best gain: -inf\n",
            "[LightGBM] [Warning] No further splits with positive gain, best gain: -inf\n",
            "[LightGBM] [Warning] No further splits with positive gain, best gain: -inf\n",
            "[LightGBM] [Warning] No further splits with positive gain, best gain: -inf\n",
            "[LightGBM] [Warning] No further splits with positive gain, best gain: -inf\n",
            "[LightGBM] [Warning] No further splits with positive gain, best gain: -inf\n",
            "[LightGBM] [Warning] No further splits with positive gain, best gain: -inf\n",
            "[LightGBM] [Warning] No further splits with positive gain, best gain: -inf\n",
            "[LightGBM] [Warning] No further splits with positive gain, best gain: -inf\n",
            "[LightGBM] [Warning] No further splits with positive gain, best gain: -inf\n",
            "[LightGBM] [Warning] No further splits with positive gain, best gain: -inf\n",
            "[LightGBM] [Warning] No further splits with positive gain, best gain: -inf\n",
            "[LightGBM] [Warning] No further splits with positive gain, best gain: -inf\n",
            "[LightGBM] [Warning] No further splits with positive gain, best gain: -inf\n",
            "[LightGBM] [Warning] No further splits with positive gain, best gain: -inf\n",
            "[LightGBM] [Warning] No further splits with positive gain, best gain: -inf\n",
            "[LightGBM] [Warning] No further splits with positive gain, best gain: -inf\n",
            "[LightGBM] [Warning] No further splits with positive gain, best gain: -inf\n",
            "[LightGBM] [Warning] No further splits with positive gain, best gain: -inf\n",
            "[LightGBM] [Warning] No further splits with positive gain, best gain: -inf\n",
            "[LightGBM] [Warning] No further splits with positive gain, best gain: -inf\n",
            "[LightGBM] [Warning] No further splits with positive gain, best gain: -inf\n",
            "[LightGBM] [Warning] No further splits with positive gain, best gain: -inf\n",
            "[LightGBM] [Warning] No further splits with positive gain, best gain: -inf\n",
            "[LightGBM] [Warning] No further splits with positive gain, best gain: -inf\n",
            "[LightGBM] [Warning] No further splits with positive gain, best gain: -inf\n",
            "[LightGBM] [Warning] No further splits with positive gain, best gain: -inf\n",
            "[LightGBM] [Warning] No further splits with positive gain, best gain: -inf\n",
            "[LightGBM] [Warning] No further splits with positive gain, best gain: -inf\n",
            "[LightGBM] [Warning] No further splits with positive gain, best gain: -inf\n",
            "[LightGBM] [Warning] No further splits with positive gain, best gain: -inf\n",
            "[LightGBM] [Warning] No further splits with positive gain, best gain: -inf\n",
            "[LightGBM] [Warning] No further splits with positive gain, best gain: -inf\n",
            "[LightGBM] [Warning] No further splits with positive gain, best gain: -inf\n",
            "[LightGBM] [Warning] No further splits with positive gain, best gain: -inf\n",
            "[LightGBM] [Warning] No further splits with positive gain, best gain: -inf\n",
            "[LightGBM] [Warning] No further splits with positive gain, best gain: -inf\n",
            "[LightGBM] [Warning] No further splits with positive gain, best gain: -inf\n",
            "[LightGBM] [Warning] No further splits with positive gain, best gain: -inf\n",
            "[LightGBM] [Warning] No further splits with positive gain, best gain: -inf\n",
            "[LightGBM] [Warning] No further splits with positive gain, best gain: -inf\n",
            "[LightGBM] [Warning] No further splits with positive gain, best gain: -inf\n",
            "[LightGBM] [Warning] No further splits with positive gain, best gain: -inf\n",
            "[LightGBM] [Warning] No further splits with positive gain, best gain: -inf\n",
            "[LightGBM] [Warning] No further splits with positive gain, best gain: -inf\n",
            "[LightGBM] [Warning] No further splits with positive gain, best gain: -inf\n",
            "[LightGBM] [Warning] No further splits with positive gain, best gain: -inf\n",
            "[LightGBM] [Warning] No further splits with positive gain, best gain: -inf\n",
            "[LightGBM] [Warning] No further splits with positive gain, best gain: -inf\n",
            "[LightGBM] [Warning] No further splits with positive gain, best gain: -inf\n",
            "[LightGBM] [Warning] No further splits with positive gain, best gain: -inf\n",
            "[LightGBM] [Warning] No further splits with positive gain, best gain: -inf\n",
            "[LightGBM] [Warning] No further splits with positive gain, best gain: -inf\n",
            "[LightGBM] [Warning] No further splits with positive gain, best gain: -inf\n",
            "[LightGBM] [Warning] No further splits with positive gain, best gain: -inf\n",
            "[LightGBM] [Warning] No further splits with positive gain, best gain: -inf\n",
            "[LightGBM] [Warning] No further splits with positive gain, best gain: -inf\n",
            "[LightGBM] [Warning] No further splits with positive gain, best gain: -inf\n",
            "[LightGBM] [Warning] No further splits with positive gain, best gain: -inf\n",
            "[LightGBM] [Warning] No further splits with positive gain, best gain: -inf\n",
            "[LightGBM] [Warning] No further splits with positive gain, best gain: -inf\n",
            "[LightGBM] [Warning] No further splits with positive gain, best gain: -inf\n",
            "[LightGBM] [Warning] No further splits with positive gain, best gain: -inf\n",
            "[LightGBM] [Warning] No further splits with positive gain, best gain: -inf\n",
            "[LightGBM] [Warning] No further splits with positive gain, best gain: -inf\n",
            "[LightGBM] [Warning] No further splits with positive gain, best gain: -inf\n",
            "[LightGBM] [Warning] No further splits with positive gain, best gain: -inf\n",
            "[LightGBM] [Warning] No further splits with positive gain, best gain: -inf\n",
            "[LightGBM] [Warning] No further splits with positive gain, best gain: -inf\n",
            "[LightGBM] [Warning] No further splits with positive gain, best gain: -inf\n",
            "[LightGBM] [Warning] No further splits with positive gain, best gain: -inf\n",
            "[LightGBM] [Warning] No further splits with positive gain, best gain: -inf\n",
            "[LightGBM] [Warning] No further splits with positive gain, best gain: -inf\n",
            "[LightGBM] [Warning] No further splits with positive gain, best gain: -inf\n",
            "[LightGBM] [Warning] No further splits with positive gain, best gain: -inf\n",
            "[LightGBM] [Warning] No further splits with positive gain, best gain: -inf\n",
            "[LightGBM] [Warning] No further splits with positive gain, best gain: -inf\n",
            "[LightGBM] [Warning] No further splits with positive gain, best gain: -inf\n",
            "[LightGBM] [Warning] No further splits with positive gain, best gain: -inf\n",
            "[LightGBM] [Warning] No further splits with positive gain, best gain: -inf\n",
            "[LightGBM] [Warning] No further splits with positive gain, best gain: -inf\n",
            "[LightGBM] [Warning] No further splits with positive gain, best gain: -inf\n",
            "[LightGBM] [Warning] No further splits with positive gain, best gain: -inf\n",
            "[LightGBM] [Warning] No further splits with positive gain, best gain: -inf\n",
            "[LightGBM] [Warning] No further splits with positive gain, best gain: -inf\n",
            "[LightGBM] [Warning] No further splits with positive gain, best gain: -inf\n",
            "[LightGBM] [Warning] No further splits with positive gain, best gain: -inf\n",
            "[LightGBM] [Warning] No further splits with positive gain, best gain: -inf\n",
            "[LightGBM] [Warning] No further splits with positive gain, best gain: -inf\n",
            "[LightGBM] [Warning] No further splits with positive gain, best gain: -inf\n",
            "[LightGBM] [Warning] No further splits with positive gain, best gain: -inf\n",
            "[LightGBM] [Warning] No further splits with positive gain, best gain: -inf\n",
            "[LightGBM] [Warning] No further splits with positive gain, best gain: -inf\n",
            "[LightGBM] [Warning] No further splits with positive gain, best gain: -inf\n",
            "[LightGBM] [Warning] No further splits with positive gain, best gain: -inf\n",
            "[LightGBM] [Warning] No further splits with positive gain, best gain: -inf\n",
            "[LightGBM] [Warning] No further splits with positive gain, best gain: -inf\n",
            "[LightGBM] [Warning] No further splits with positive gain, best gain: -inf\n",
            "[LightGBM] [Warning] No further splits with positive gain, best gain: -inf\n",
            "[LightGBM] [Warning] No further splits with positive gain, best gain: -inf\n",
            "[LightGBM] [Warning] No further splits with positive gain, best gain: -inf\n",
            "[LightGBM] [Warning] No further splits with positive gain, best gain: -inf\n",
            "[LightGBM] [Warning] No further splits with positive gain, best gain: -inf\n",
            "[LightGBM] [Warning] No further splits with positive gain, best gain: -inf\n",
            "[LightGBM] [Warning] No further splits with positive gain, best gain: -inf\n",
            "[LightGBM] [Warning] No further splits with positive gain, best gain: -inf\n",
            "[LightGBM] [Warning] No further splits with positive gain, best gain: -inf\n",
            "[LightGBM] [Warning] No further splits with positive gain, best gain: -inf\n",
            "[LightGBM] [Warning] No further splits with positive gain, best gain: -inf\n",
            "[LightGBM] [Warning] No further splits with positive gain, best gain: -inf\n",
            "[LightGBM] [Warning] No further splits with positive gain, best gain: -inf\n",
            "[LightGBM] [Warning] No further splits with positive gain, best gain: -inf\n",
            "[LightGBM] [Warning] No further splits with positive gain, best gain: -inf\n",
            "[LightGBM] [Warning] No further splits with positive gain, best gain: -inf\n",
            "[LightGBM] [Warning] No further splits with positive gain, best gain: -inf\n",
            "[LightGBM] [Warning] No further splits with positive gain, best gain: -inf\n",
            "[LightGBM] [Warning] No further splits with positive gain, best gain: -inf\n",
            "[LightGBM] [Warning] No further splits with positive gain, best gain: -inf\n",
            "[LightGBM] [Warning] No further splits with positive gain, best gain: -inf\n",
            "[LightGBM] [Warning] No further splits with positive gain, best gain: -inf\n",
            "[LightGBM] [Warning] No further splits with positive gain, best gain: -inf\n",
            "[LightGBM] [Warning] No further splits with positive gain, best gain: -inf\n",
            "[LightGBM] [Warning] No further splits with positive gain, best gain: -inf\n",
            "[LightGBM] [Warning] No further splits with positive gain, best gain: -inf\n",
            "[LightGBM] [Warning] No further splits with positive gain, best gain: -inf\n",
            "[LightGBM] [Warning] No further splits with positive gain, best gain: -inf\n",
            "[LightGBM] [Warning] No further splits with positive gain, best gain: -inf\n",
            "[LightGBM] [Warning] No further splits with positive gain, best gain: -inf\n",
            "[LightGBM] [Warning] No further splits with positive gain, best gain: -inf\n",
            "[LightGBM] [Warning] No further splits with positive gain, best gain: -inf\n",
            "[LightGBM] [Warning] No further splits with positive gain, best gain: -inf\n",
            "[LightGBM] [Warning] No further splits with positive gain, best gain: -inf\n",
            "[LightGBM] [Warning] No further splits with positive gain, best gain: -inf\n",
            "[LightGBM] [Warning] No further splits with positive gain, best gain: -inf\n",
            "[LightGBM] [Warning] No further splits with positive gain, best gain: -inf\n",
            "[LightGBM] [Warning] No further splits with positive gain, best gain: -inf\n",
            "[LightGBM] [Warning] No further splits with positive gain, best gain: -inf\n",
            "[LightGBM] [Warning] No further splits with positive gain, best gain: -inf\n",
            "[LightGBM] [Warning] No further splits with positive gain, best gain: -inf\n",
            "[LightGBM] [Warning] No further splits with positive gain, best gain: -inf\n",
            "[LightGBM] [Warning] No further splits with positive gain, best gain: -inf\n",
            "[LightGBM] [Warning] No further splits with positive gain, best gain: -inf\n",
            "[LightGBM] [Warning] No further splits with positive gain, best gain: -inf\n",
            "[LightGBM] [Warning] No further splits with positive gain, best gain: -inf\n",
            "[LightGBM] [Warning] No further splits with positive gain, best gain: -inf\n",
            "[LightGBM] [Warning] No further splits with positive gain, best gain: -inf\n",
            "[LightGBM] [Warning] No further splits with positive gain, best gain: -inf\n",
            "[LightGBM] [Warning] No further splits with positive gain, best gain: -inf\n",
            "[LightGBM] [Warning] No further splits with positive gain, best gain: -inf\n",
            "[LightGBM] [Warning] No further splits with positive gain, best gain: -inf\n",
            "[LightGBM] [Warning] No further splits with positive gain, best gain: -inf\n",
            "[LightGBM] [Warning] No further splits with positive gain, best gain: -inf\n",
            "[LightGBM] [Warning] No further splits with positive gain, best gain: -inf\n",
            "[LightGBM] [Warning] No further splits with positive gain, best gain: -inf\n",
            "[LightGBM] [Warning] No further splits with positive gain, best gain: -inf\n",
            "[LightGBM] [Warning] No further splits with positive gain, best gain: -inf\n",
            "[LightGBM] [Warning] No further splits with positive gain, best gain: -inf\n",
            "[LightGBM] [Warning] No further splits with positive gain, best gain: -inf\n",
            "[LightGBM] [Warning] No further splits with positive gain, best gain: -inf\n",
            "[LightGBM] [Warning] No further splits with positive gain, best gain: -inf\n",
            "[LightGBM] [Warning] No further splits with positive gain, best gain: -inf\n",
            "[LightGBM] [Warning] No further splits with positive gain, best gain: -inf\n",
            "[LightGBM] [Warning] No further splits with positive gain, best gain: -inf\n",
            "[LightGBM] [Warning] No further splits with positive gain, best gain: -inf\n",
            "[LightGBM] [Warning] No further splits with positive gain, best gain: -inf\n",
            "[LightGBM] [Warning] No further splits with positive gain, best gain: -inf\n",
            "[LightGBM] [Warning] No further splits with positive gain, best gain: -inf\n",
            "[LightGBM] [Warning] No further splits with positive gain, best gain: -inf\n",
            "[LightGBM] [Warning] No further splits with positive gain, best gain: -inf\n",
            "[LightGBM] [Warning] No further splits with positive gain, best gain: -inf\n",
            "[LightGBM] [Warning] No further splits with positive gain, best gain: -inf\n",
            "[LightGBM] [Warning] No further splits with positive gain, best gain: -inf\n",
            "[LightGBM] [Warning] No further splits with positive gain, best gain: -inf\n",
            "[LightGBM] [Warning] No further splits with positive gain, best gain: -inf\n",
            "[LightGBM] [Warning] No further splits with positive gain, best gain: -inf\n",
            "[LightGBM] [Warning] No further splits with positive gain, best gain: -inf\n",
            "[LightGBM] [Warning] No further splits with positive gain, best gain: -inf\n",
            "[LightGBM] [Warning] No further splits with positive gain, best gain: -inf\n",
            "[LightGBM] [Warning] No further splits with positive gain, best gain: -inf\n",
            "[LightGBM] [Warning] No further splits with positive gain, best gain: -inf\n",
            "[LightGBM] [Warning] No further splits with positive gain, best gain: -inf\n",
            "[LightGBM] [Warning] No further splits with positive gain, best gain: -inf\n",
            "[LightGBM] [Warning] No further splits with positive gain, best gain: -inf\n",
            "[LightGBM] [Warning] No further splits with positive gain, best gain: -inf\n",
            "[LightGBM] [Warning] No further splits with positive gain, best gain: -inf\n",
            "[LightGBM] [Warning] No further splits with positive gain, best gain: -inf\n",
            "[LightGBM] [Warning] No further splits with positive gain, best gain: -inf\n",
            "[LightGBM] [Warning] No further splits with positive gain, best gain: -inf\n",
            "[LightGBM] [Warning] No further splits with positive gain, best gain: -inf\n",
            "[LightGBM] [Warning] No further splits with positive gain, best gain: -inf\n",
            "[LightGBM] [Warning] No further splits with positive gain, best gain: -inf\n",
            "[LightGBM] [Warning] No further splits with positive gain, best gain: -inf\n",
            "[LightGBM] [Warning] No further splits with positive gain, best gain: -inf\n",
            "[LightGBM] [Warning] No further splits with positive gain, best gain: -inf\n",
            "[LightGBM] [Warning] No further splits with positive gain, best gain: -inf\n",
            "[LightGBM] [Warning] No further splits with positive gain, best gain: -inf\n",
            "[LightGBM] [Warning] No further splits with positive gain, best gain: -inf\n",
            "[LightGBM] [Warning] No further splits with positive gain, best gain: -inf\n",
            "[LightGBM] [Warning] No further splits with positive gain, best gain: -inf\n",
            "[LightGBM] [Warning] No further splits with positive gain, best gain: -inf\n",
            "[LightGBM] [Warning] No further splits with positive gain, best gain: -inf\n",
            "[LightGBM] [Warning] No further splits with positive gain, best gain: -inf\n",
            "[LightGBM] [Warning] No further splits with positive gain, best gain: -inf\n",
            "[LightGBM] [Warning] No further splits with positive gain, best gain: -inf\n",
            "[LightGBM] [Warning] No further splits with positive gain, best gain: -inf\n",
            "[LightGBM] [Warning] No further splits with positive gain, best gain: -inf\n",
            "[LightGBM] [Warning] No further splits with positive gain, best gain: -inf\n",
            "[LightGBM] [Warning] No further splits with positive gain, best gain: -inf\n",
            "[LightGBM] [Warning] No further splits with positive gain, best gain: -inf\n",
            "[LightGBM] [Warning] No further splits with positive gain, best gain: -inf\n",
            "[LightGBM] [Warning] No further splits with positive gain, best gain: -inf\n",
            "[LightGBM] [Warning] No further splits with positive gain, best gain: -inf\n",
            "[LightGBM] [Warning] No further splits with positive gain, best gain: -inf\n",
            "[LightGBM] [Warning] No further splits with positive gain, best gain: -inf\n",
            "[LightGBM] [Warning] No further splits with positive gain, best gain: -inf\n",
            "[LightGBM] [Warning] No further splits with positive gain, best gain: -inf\n",
            "[LightGBM] [Warning] No further splits with positive gain, best gain: -inf\n",
            "[LightGBM] [Warning] No further splits with positive gain, best gain: -inf\n",
            "[LightGBM] [Warning] No further splits with positive gain, best gain: -inf\n",
            "[LightGBM] [Warning] No further splits with positive gain, best gain: -inf\n",
            "[LightGBM] [Warning] No further splits with positive gain, best gain: -inf\n",
            "Early stopping, best iteration is:\n",
            "[7]\tcv_agg's valid auc: 0.705295 + 0.0238222\n",
            "The best validation score was 0.70530\n",
            "\n",
            "The best hyperparameters were:\n",
            "{'boosting_type': 'gbdt',\n",
            " 'colsample_bytree': 0.8222222222222222,\n",
            " 'is_unbalance': True,\n",
            " 'learning_rate': 0.40260198354127363,\n",
            " 'min_child_samples': 240,\n",
            " 'n_estimators': 7,\n",
            " 'num_leaves': 41,\n",
            " 'reg_alpha': 0.12244897959183673,\n",
            " 'reg_lambda': 0.44897959183673464,\n",
            " 'subsample': 0.6414141414141414,\n",
            " 'subsample_for_bin': 60000}\n"
          ]
        }
      ],
      "source": [
        "random_results = random_search(param_grid)\n",
        "\n",
        "print('The best validation score was {:.5f}'.format(random_results.loc[0, 'score']))\n",
        "print('\\nThe best hyperparameters were:')\n",
        "\n",
        "import pprint\n",
        "pprint.pprint(random_results.loc[0, 'params'])"
      ]
    },
    {
      "cell_type": "code",
      "execution_count": 28,
      "metadata": {
        "colab": {
          "base_uri": "https://localhost:8080/"
        },
        "id": "PpT2CzbN3gi8",
        "outputId": "c7edfea7-0267-4c11-a942-147c8675a609"
      },
      "outputs": [
        {
          "name": "stdout",
          "output_type": "stream",
          "text": [
            "[LightGBM] [Info] Number of positive: 824, number of negative: 9176\n",
            "[LightGBM] [Info] Auto-choosing col-wise multi-threading, the overhead of testing was 0.026986 seconds.\n",
            "You can set `force_col_wise=true` to remove the overhead.\n",
            "[LightGBM] [Info] Total Bins 9979\n",
            "[LightGBM] [Info] Number of data points in the train set: 10000, number of used features: 84\n",
            "[LightGBM] [Info] [binary:BoostFromScore]: pavg=0.082400 -> initscore=-2.410176\n",
            "[LightGBM] [Info] Start training from score -2.410176\n",
            "[LightGBM] [Warning] No further splits with positive gain, best gain: -inf\n",
            "[LightGBM] [Warning] No further splits with positive gain, best gain: -inf\n",
            "[LightGBM] [Warning] No further splits with positive gain, best gain: -inf\n",
            "[LightGBM] [Warning] No further splits with positive gain, best gain: -inf\n",
            "[LightGBM] [Warning] No further splits with positive gain, best gain: -inf\n",
            "[LightGBM] [Warning] No further splits with positive gain, best gain: -inf\n",
            "[LightGBM] [Warning] No further splits with positive gain, best gain: -inf\n",
            "The best model from random search scores 0.70502 ROC AUC on the test set.\n"
          ]
        }
      ],
      "source": [
        "# Get the best parameters\n",
        "random_search_params = random_results.loc[0, 'params']\n",
        "\n",
        "# Create, train, test model\n",
        "model = lgb.LGBMClassifier(**random_search_params, random_state = 42)\n",
        "model.fit(train_features, train_labels)\n",
        "\n",
        "preds = model.predict_proba(test_features)[:, 1]\n",
        "\n",
        "print('The best model from random search scores {:.5f} ROC AUC on the test set.'.format(roc_auc_score(test_labels, preds)))"
      ]
    },
    {
      "cell_type": "markdown",
      "metadata": {
        "id": "u5hVyTWEH_VP"
      },
      "source": [
        "## Optimization Algorithms"
      ]
    },
    {
      "cell_type": "markdown",
      "metadata": {
        "id": "EpiR_tCbIip9"
      },
      "source": [
        "Until now, you have probably always used Gradient Descent to update the parameters and minimize the cost. In this part of the lab, we are going to learn more advanced optimization methods that can speed up learning and perhaps even get you to a better final value for the cost function. Having a good optimization algorithm can be the difference between waiting days vs. just a few hours to get a good result."
      ]
    },
    {
      "cell_type": "markdown",
      "metadata": {
        "id": "SKs7eXt0IwCi"
      },
      "source": [
        "To get started, run the following code to import the libraries you will need."
      ]
    },
    {
      "cell_type": "code",
      "execution_count": 29,
      "metadata": {
        "id": "kHcqSzVcIw2q"
      },
      "outputs": [],
      "source": [
        "import numpy as np\n",
        "import matplotlib.pyplot as plt\n",
        "import scipy.io\n",
        "import math\n",
        "import sklearn\n",
        "import sklearn.datasets\n",
        "\n",
        "from opt_utils import load_params_and_grads, initialize_parameters, forward_propagation, backward_propagation\n",
        "from opt_utils import compute_cost, predict, predict_dec, plot_decision_boundary, load_dataset\n",
        "from testCases import *\n",
        "\n",
        "%matplotlib inline\n",
        "plt.rcParams['figure.figsize'] = (7.0, 4.0) # set default size of plots\n",
        "plt.rcParams['image.interpolation'] = 'nearest'\n",
        "plt.rcParams['image.cmap'] = 'gray'"
      ]
    },
    {
      "cell_type": "markdown",
      "metadata": {
        "id": "F0rfemWsIzms"
      },
      "source": [
        "### Gradient Descent"
      ]
    },
    {
      "cell_type": "markdown",
      "metadata": {
        "id": "fw4FLwRbI33D"
      },
      "source": [
        "A simple optimization method in machine learning is gradient descent (GD). When you take gradient steps with respect to all\n",
        " examples on each step, it is also called Batch Gradient Descent."
      ]
    },
    {
      "cell_type": "markdown",
      "metadata": {
        "id": "qyFMby8bJ0RW"
      },
      "source": [
        "Implement the gradient descent update rule. The gradient descent rule is, for l = 1, ..., L\n",
        "\n",
        "W^{[l]} = W^{[l]} - \\alpha \\text{ } dW^{[l]} \\tag{1}\n",
        "b^{[l]} = b^{[l]} - \\alpha \\text{ } db^{[l]} \\tag{2}\n",
        "\n",
        "where L is the number of layers and \\alpha is the learning rate. All parameters should be stored in the parameters dictionary. Note that the iterator l starts at 0 in the for loop while the first parameters are W^{[1]} and b^{[1]}. You need to shift l to l+1 when coding."
      ]
    },
    {
      "cell_type": "markdown",
      "metadata": {
        "id": "Y9eZJhMqiiiU"
      },
      "source": [
        "###Task 1"
      ]
    },
    {
      "cell_type": "code",
      "execution_count": 31,
      "metadata": {
        "id": "aIvELj4CI1Aj"
      },
      "outputs": [],
      "source": [
        "# FUNCTION: update_parameters_with_gd\n",
        "\n",
        "def update_parameters_with_gd(parameters, grads, learning_rate):\n",
        "    \"\"\"\n",
        "    Update parameters using one step of gradient descent\n",
        "\n",
        "    Arguments:\n",
        "    parameters -- python dictionary containing your parameters to be updated:\n",
        "                    parameters['W' + str(l)] = Wl\n",
        "                    parameters['b' + str(l)] = bl\n",
        "    grads -- python dictionary containing your gradients to update each parameters:\n",
        "                    grads['dW' + str(l)] = dWl\n",
        "                    grads['db' + str(l)] = dbl\n",
        "    learning_rate -- the learning rate, scalar.\n",
        "\n",
        "    Returns:\n",
        "    parameters -- python dictionary containing your updated parameters\n",
        "    \"\"\"\n",
        "\n",
        "    L = len(parameters) // 2 # number of layers in the neural networks\n",
        "\n",
        "    # Update rule for each parameter\n",
        "    for l in range(L):\n",
        "\n",
        "        # ***********************************************\n",
        "        # TASK 1 - IMPLEMENT GRADIENT DESCENT UPDATE RULE\n",
        "        # ***********************************************\n",
        "\n",
        "        # WRITE YOUR CODE HERE\n",
        "        parameters[\"W\" + str(l+1)] = parameters[\"W\" + str(l+1)] - learning_rate * grads[\"dW\" + str(l+1)]\n",
        "        parameters[\"b\" + str(l+1)] = parameters[\"b\" + str(l+1)]  - learning_rate * grads[\"db\" + str(l+1)]\n",
        "\n",
        "        # ***********************************************\n",
        "        # ***********************************************\n",
        "\n",
        "    return parameters"
      ]
    },
    {
      "cell_type": "code",
      "execution_count": 32,
      "metadata": {
        "colab": {
          "base_uri": "https://localhost:8080/"
        },
        "id": "N7RKSnULKiby",
        "outputId": "6c2209ef-7389-46eb-dc6e-e9a7f1f20207"
      },
      "outputs": [
        {
          "name": "stdout",
          "output_type": "stream",
          "text": [
            "W1 = [[ 1.63535156 -0.62320365 -0.53718766]\n",
            " [-1.07799357  0.85639907 -2.29470142]]\n",
            "b1 = [[ 1.74604067]\n",
            " [-0.75184921]]\n",
            "W2 = [[ 0.32171798 -0.25467393  1.46902454]\n",
            " [-2.05617317 -0.31554548 -0.3756023 ]\n",
            " [ 1.1404819  -1.09976462 -0.1612551 ]]\n",
            "b2 = [[-0.88020257]\n",
            " [ 0.02561572]\n",
            " [ 0.57539477]]\n"
          ]
        }
      ],
      "source": [
        "parameters, grads, learning_rate = update_parameters_with_gd_test_case()\n",
        "\n",
        "parameters = update_parameters_with_gd(parameters, grads, learning_rate)\n",
        "print(\"W1 = \" + str(parameters[\"W1\"]))\n",
        "print(\"b1 = \" + str(parameters[\"b1\"]))\n",
        "print(\"W2 = \" + str(parameters[\"W2\"]))\n",
        "print(\"b2 = \" + str(parameters[\"b2\"]))"
      ]
    },
    {
      "cell_type": "markdown",
      "metadata": {
        "id": "tw6tXsdGKkib"
      },
      "source": [
        "A variant of this is Stochastic Gradient Descent (SGD), which is equivalent to mini-batch gradient descent where each mini-batch has just 1 example. The update rule that you have just implemented does not change. What changes is that you would be computing gradients on just one training example at a time, rather than on the whole training set. The examples below illustrate the difference between stochastic gradient descent and (batch) gradient descent."
      ]
    },
    {
      "cell_type": "markdown",
      "metadata": {
        "id": "ul9S3DxFKrD8"
      },
      "source": [
        "**Batch Gradient Descent**"
      ]
    },
    {
      "cell_type": "code",
      "execution_count": null,
      "metadata": {
        "id": "obC_vAUWKx6r"
      },
      "outputs": [],
      "source": [
        "# X = data_input\n",
        "# Y = labels\n",
        "# parameters = initialize_parameters(layers_dims)\n",
        "# for i in range(0, num_iterations):\n",
        "#     # Forward propagation\n",
        "#     a, caches = forward_propagation(X, parameters)\n",
        "#     # Compute cost.\n",
        "#     cost = compute_cost(a, Y)\n",
        "#     # Backward propagation.\n",
        "#     grads = backward_propagation(a, caches, parameters)\n",
        "#     # Update parameters.\n",
        "#     parameters = update_parameters(parameters, grads)"
      ]
    },
    {
      "cell_type": "markdown",
      "metadata": {
        "id": "wnAqX1pmKuUk"
      },
      "source": [
        "**Stochastic Gradient Descent**"
      ]
    },
    {
      "cell_type": "code",
      "execution_count": null,
      "metadata": {
        "id": "l3Hh8HNEK0W9"
      },
      "outputs": [],
      "source": [
        "# X = data_input\n",
        "# Y = labels\n",
        "# parameters = initialize_parameters(layers_dims)\n",
        "# for i in range(0, num_iterations):\n",
        "#     for j in range(0, m):\n",
        "#         # Forward propagation\n",
        "#         a, caches = forward_propagation(X[:,j], parameters)\n",
        "#         # Compute cost\n",
        "#         cost = compute_cost(a, Y[:,j])\n",
        "#         # Backward propagation\n",
        "#         grads = backward_propagation(a, caches, parameters)\n",
        "#         # Update parameters.\n",
        "#         parameters = update_parameters(parameters, grads)"
      ]
    },
    {
      "cell_type": "markdown",
      "metadata": {
        "id": "nELz0sQHK9EY"
      },
      "source": [
        "### Mini-Batch Gradient Descent"
      ]
    },
    {
      "cell_type": "markdown",
      "metadata": {
        "id": "JX4dM7yuLAJj"
      },
      "source": [
        "First, let us learn how to build mini-batches from the training set (X, Y).\n",
        "\n",
        "There are 2 steps:"
      ]
    },
    {
      "cell_type": "markdown",
      "metadata": {
        "id": "1E_cCV_xLFlD"
      },
      "source": [
        "**Shuffle**"
      ]
    },
    {
      "cell_type": "markdown",
      "metadata": {
        "id": "Jc966olELItD"
      },
      "source": [
        "Create a shuffled version of the training set (X, Y) as shown below. Each column of X and Y represents a training example. Note that the random shuffling is done synchronously between X and Y. Such that after the shuffling the i^{th} column of X is the example corresponding to the i^{th} label in Y. The shuffling step ensures that examples will be split randomly into different mini-batches.\n"
      ]
    },
    {
      "cell_type": "markdown",
      "metadata": {
        "id": "WJVZYS0RLG2K"
      },
      "source": [
        "**Partition**"
      ]
    },
    {
      "cell_type": "markdown",
      "metadata": {
        "id": "jH7O1DJ_LNem"
      },
      "source": [
        "Partition the shuffled (X, Y) into mini-batches of size mini_batch_size (here 64). Note that the number of training examples is not always divisible by mini_batch_size. The last mini batch might be smaller, but you don't need to worry about this. When the final mini-batch is smaller than the full mini_batch_size, it will look like this:"
      ]
    },
    {
      "cell_type": "markdown",
      "metadata": {
        "id": "Z-OYLDcULVwt"
      },
      "source": [
        "Implement random_mini_batches. We coded the shuffling part for you. To help you with the partitioning step, we give you the following code that selects the indexes for the 1^{st} and 2^{nd} mini-batches:\n",
        "\n",
        "\n",
        "```\n",
        "first_mini_batch_X = shuffled_X[:, 0 : mini_batch_size]\n",
        "second_mini_batch_X = shuffled_X[:, mini_batch_size : 2 * mini_batch_size]\n",
        "```\n",
        "\n",
        "Note that the last mini-batch might end up smaller than mini_batch_size=64. Let \\lfloor s \\rfloor represents s rounded down to the nearest integer (this is math.floor(s) in Python). If the total number of examples is not a multiple of mini_batch_size=64 then there will be \\lfloor \\frac{m}{mini\\_batch\\_size}\\rfloor mini-batches with a full 64 examples, and the number of examples in the final mini-batch will be (m-mini_\\_batch_\\_size \\times \\lfloor \\frac{m}{mini\\_batch\\_size}\\rfloor)."
      ]
    },
    {
      "cell_type": "markdown",
      "metadata": {
        "id": "qWLA2t5disAa"
      },
      "source": [
        "###Task 2 and 3"
      ]
    },
    {
      "cell_type": "code",
      "execution_count": 33,
      "metadata": {
        "id": "7caFaNciLtsD"
      },
      "outputs": [],
      "source": [
        "# FUNCTION: random_mini_batches\n",
        "\n",
        "def random_mini_batches(X, Y, mini_batch_size = 64, seed = 0):\n",
        "    \"\"\"\n",
        "    Creates a list of random minibatches from (X, Y)\n",
        "\n",
        "    Arguments:\n",
        "    X -- input data, of shape (input size, number of examples)\n",
        "    Y -- true \"label\" vector (1 for blue dot / 0 for red dot), of shape (1, number of examples)\n",
        "    mini_batch_size -- size of the mini-batches, integer\n",
        "\n",
        "    Returns:\n",
        "    mini_batches -- list of synchronous (mini_batch_X, mini_batch_Y)\n",
        "    \"\"\"\n",
        "\n",
        "    np.random.seed(seed)            # To make your \"random\" minibatches the same as ours\n",
        "    m = X.shape[1]                  # number of training examples\n",
        "    mini_batches = []\n",
        "\n",
        "    # Step 1: Shuffle (X, Y)\n",
        "    permutation = list(np.random.permutation(m))\n",
        "    shuffled_X = X[:, permutation]\n",
        "    shuffled_Y = Y[:, permutation].reshape((1,m))\n",
        "\n",
        "    # Step 2: Partition (shuffled_X, shuffled_Y). Minus the end case.\n",
        "    num_complete_minibatches = math.floor(m/mini_batch_size) # number of mini batches of size mini_batch_size in your partitionning\n",
        "    for k in range(0, num_complete_minibatches):\n",
        "\n",
        "        # *******************************\n",
        "        # TASK 2 - IMPLEMENT PARTITIONING\n",
        "        # *******************************\n",
        "\n",
        "        # WRITE YOUR CODE HERE\n",
        "        mini_batch_X = shuffled_X[:, k * mini_batch_size:(k + 1) * mini_batch_size]\n",
        "        mini_batch_Y = shuffled_Y[:, k * mini_batch_size:(k + 1) * mini_batch_size]\n",
        "\n",
        "        # *******************************\n",
        "        # *******************************\n",
        "\n",
        "        mini_batch = (mini_batch_X, mini_batch_Y)\n",
        "        mini_batches.append(mini_batch)\n",
        "\n",
        "    # Handling the end case (last mini-batch < mini_batch_size)\n",
        "    if m % mini_batch_size != 0:\n",
        "\n",
        "        # ************************\n",
        "        # TASK 3 - HANDLE END CASE\n",
        "        # ************************\n",
        "\n",
        "        # WRITE YOUR CODE HERE\n",
        "        mini_batch_X = shuffled_X[:, num_complete_minibatches * mini_batch_size:]\n",
        "        mini_batch_Y = shuffled_Y[:, num_complete_minibatches * mini_batch_size:]\n",
        "\n",
        "        # ************************\n",
        "        # ************************\n",
        "\n",
        "        mini_batch = (mini_batch_X, mini_batch_Y)\n",
        "        mini_batches.append(mini_batch)\n",
        "\n",
        "    return mini_batches"
      ]
    },
    {
      "cell_type": "code",
      "execution_count": 34,
      "metadata": {
        "colab": {
          "base_uri": "https://localhost:8080/"
        },
        "id": "YEVtFo7ZMI4O",
        "outputId": "c6933ccb-d265-4196-e53c-b7ed6bce01c1"
      },
      "outputs": [
        {
          "name": "stdout",
          "output_type": "stream",
          "text": [
            "shape of the 1st mini_batch_X: (12288, 64)\n",
            "shape of the 2nd mini_batch_X: (12288, 64)\n",
            "shape of the 3rd mini_batch_X: (12288, 20)\n",
            "shape of the 1st mini_batch_Y: (1, 64)\n",
            "shape of the 2nd mini_batch_Y: (1, 64)\n",
            "shape of the 3rd mini_batch_Y: (1, 20)\n",
            "mini batch sanity check: [ 0.90085595 -0.7612069   0.2344157 ]\n"
          ]
        }
      ],
      "source": [
        "X_assess, Y_assess, mini_batch_size = random_mini_batches_test_case()\n",
        "mini_batches = random_mini_batches(X_assess, Y_assess, mini_batch_size)\n",
        "\n",
        "print (\"shape of the 1st mini_batch_X: \" + str(mini_batches[0][0].shape))\n",
        "print (\"shape of the 2nd mini_batch_X: \" + str(mini_batches[1][0].shape))\n",
        "print (\"shape of the 3rd mini_batch_X: \" + str(mini_batches[2][0].shape))\n",
        "print (\"shape of the 1st mini_batch_Y: \" + str(mini_batches[0][1].shape))\n",
        "print (\"shape of the 2nd mini_batch_Y: \" + str(mini_batches[1][1].shape))\n",
        "print (\"shape of the 3rd mini_batch_Y: \" + str(mini_batches[2][1].shape))\n",
        "print (\"mini batch sanity check: \" + str(mini_batches[0][0][0][0:3]))"
      ]
    },
    {
      "cell_type": "markdown",
      "metadata": {
        "id": "tJQSc49LMLzz"
      },
      "source": [
        "### Momentum"
      ]
    },
    {
      "cell_type": "markdown",
      "metadata": {
        "id": "0l_vv3_yMR2j"
      },
      "source": [
        "Because mini-batch gradient descent makes a parameter update after seeing just a subset of examples, the direction of the update has some variance, and so the path taken by mini-batch gradient descent will \"oscillate\" toward convergence. Using momentum can reduce these oscillations."
      ]
    },
    {
      "cell_type": "markdown",
      "metadata": {
        "id": "FvRnIgs9MpUF"
      },
      "source": [
        "Initialize the velocity. The velocity, v, is a python dictionary that needs to be initialized with arrays of zeros. Its keys are the same as those in the grads dictionary, that is: for l =1,...,L:\n",
        "\n",
        "```\n",
        "v[\"dW\" + str(l+1)] = ... #(numpy array of zeros with the same shape as parameters[\"W\" + str(l+1)])\n",
        "v[\"db\" + str(l+1)] = ... #(numpy array of zeros with the same shape as parameters[\"b\" + str(l+1)])\n",
        "```"
      ]
    },
    {
      "cell_type": "markdown",
      "metadata": {
        "id": "8-vY9n56iw9S"
      },
      "source": [
        "###Task 4"
      ]
    },
    {
      "cell_type": "code",
      "execution_count": 36,
      "metadata": {
        "id": "4cU5dUscMOxa"
      },
      "outputs": [],
      "source": [
        "# FUNCTION: initialize_velocity\n",
        "\n",
        "def initialize_velocity(parameters):\n",
        "    \"\"\"\n",
        "    Initializes the velocity as a python dictionary with:\n",
        "                - keys: \"dW1\", \"db1\", ..., \"dWL\", \"dbL\"\n",
        "                - values: numpy arrays of zeros of the same shape as the corresponding gradients/parameters.\n",
        "    Arguments:\n",
        "    parameters -- python dictionary containing your parameters.\n",
        "                    parameters['W' + str(l)] = Wl\n",
        "                    parameters['b' + str(l)] = bl\n",
        "\n",
        "    Returns:\n",
        "    v -- python dictionary containing the current velocity.\n",
        "                    v['dW' + str(l)] = velocity of dWl\n",
        "                    v['db' + str(l)] = velocity of dbl\n",
        "    \"\"\"\n",
        "\n",
        "    L = len(parameters) // 2 # number of layers in the neural networks\n",
        "    v = {}\n",
        "\n",
        "    # Initialize velocity\n",
        "    for l in range(L):\n",
        "\n",
        "        # ****************************\n",
        "        # TASK 4 - INITIALIZE VELOCITY\n",
        "        # ****************************\n",
        "\n",
        "        # WRITE YOUR CODE HERE\n",
        "        v[\"dW\" + str(l+1)] = np.zeros((parameters[\"W\" + str(l+1)].shape))\n",
        "        v[\"db\" + str(l+1)] = np.zeros((parameters[\"b\" + str(l+1)].shape))\n",
        "\n",
        "        # ****************************\n",
        "        # ****************************\n",
        "\n",
        "    return v"
      ]
    },
    {
      "cell_type": "code",
      "execution_count": 37,
      "metadata": {
        "colab": {
          "base_uri": "https://localhost:8080/"
        },
        "id": "6v4GhlOAM51V",
        "outputId": "bee2f270-76d5-473d-9427-f46d0f8a330c"
      },
      "outputs": [
        {
          "name": "stdout",
          "output_type": "stream",
          "text": [
            "v[\"dW1\"] = [[0. 0. 0.]\n",
            " [0. 0. 0.]]\n",
            "v[\"db1\"] = [[0.]\n",
            " [0.]]\n",
            "v[\"dW2\"] = [[0. 0. 0.]\n",
            " [0. 0. 0.]\n",
            " [0. 0. 0.]]\n",
            "v[\"db2\"] = [[0.]\n",
            " [0.]\n",
            " [0.]]\n"
          ]
        }
      ],
      "source": [
        "parameters = initialize_velocity_test_case()\n",
        "\n",
        "v = initialize_velocity(parameters)\n",
        "print(\"v[\\\"dW1\\\"] = \" + str(v[\"dW1\"]))\n",
        "print(\"v[\\\"db1\\\"] = \" + str(v[\"db1\"]))\n",
        "print(\"v[\\\"dW2\\\"] = \" + str(v[\"dW2\"]))\n",
        "print(\"v[\\\"db2\\\"] = \" + str(v[\"db2\"]))"
      ]
    },
    {
      "cell_type": "markdown",
      "metadata": {
        "id": "DADSipSri4Zb"
      },
      "source": [
        "###Task 5"
      ]
    },
    {
      "cell_type": "code",
      "execution_count": 38,
      "metadata": {
        "id": "dsqUgIbPNLXD"
      },
      "outputs": [],
      "source": [
        "# FUNCTION: update_parameters_with_momentum\n",
        "\n",
        "def update_parameters_with_momentum(parameters, grads, v, beta, learning_rate):\n",
        "    \"\"\"\n",
        "    Update parameters using Momentum\n",
        "\n",
        "    Arguments:\n",
        "    parameters -- python dictionary containing your parameters:\n",
        "                    parameters['W' + str(l)] = Wl\n",
        "                    parameters['b' + str(l)] = bl\n",
        "    grads -- python dictionary containing your gradients for each parameters:\n",
        "                    grads['dW' + str(l)] = dWl\n",
        "                    grads['db' + str(l)] = dbl\n",
        "    v -- python dictionary containing the current velocity:\n",
        "                    v['dW' + str(l)] = ...\n",
        "                    v['db' + str(l)] = ...\n",
        "    beta -- the momentum hyperparameter, scalar\n",
        "    learning_rate -- the learning rate, scalar\n",
        "\n",
        "    Returns:\n",
        "    parameters -- python dictionary containing your updated parameters\n",
        "    v -- python dictionary containing your updated velocities\n",
        "    \"\"\"\n",
        "\n",
        "    L = len(parameters) // 2 # number of layers in the neural networks\n",
        "\n",
        "    # Momentum update for each parameter\n",
        "    for l in range(L):\n",
        "\n",
        "        # ************************\n",
        "        # TASK 5 - MOMENTUM UPDATE\n",
        "        # ************************\n",
        "\n",
        "        # WRITE YOUR CODE HERE\n",
        "\n",
        "        # COMPUTE VELOCITIES\n",
        "        v[\"dW\" + str(l+1)] = beta * v[\"dW\" + str(l+1)] + (1 - beta) * grads[\"dW\" + str(l+1)]\n",
        "        v[\"db\" + str(l+1)] = beta * v[\"db\" + str(l+1)] + (1 - beta) * grads[\"db\" + str(l+1)]\n",
        "\n",
        "        # UPDATE PARAMETERS\n",
        "        parameters[\"W\" + str(l+1)] = parameters[\"W\" + str(l+1)] - learning_rate * v[\"dW\" + str(l+1)]\n",
        "        parameters[\"b\" + str(l+1)] = parameters[\"b\" + str(l+1)] - learning_rate * v[\"db\" + str(l+1)]\n",
        "\n",
        "        # ************************\n",
        "        # ************************\n",
        "\n",
        "    return parameters, v"
      ]
    },
    {
      "cell_type": "code",
      "execution_count": 39,
      "metadata": {
        "colab": {
          "base_uri": "https://localhost:8080/"
        },
        "id": "fOnAY1ahNOlD",
        "outputId": "89748ad7-2bb4-4dff-c786-072f679ca242"
      },
      "outputs": [
        {
          "name": "stdout",
          "output_type": "stream",
          "text": [
            "W1 = [[ 1.62544598 -0.61290114 -0.52907334]\n",
            " [-1.07347112  0.86450677 -2.30085497]]\n",
            "b1 = [[ 1.74493465]\n",
            " [-0.76027113]]\n",
            "W2 = [[ 0.31930698 -0.24990073  1.4627996 ]\n",
            " [-2.05974396 -0.32173003 -0.38320915]\n",
            " [ 1.13444069 -1.0998786  -0.1713109 ]]\n",
            "b2 = [[-0.87809283]\n",
            " [ 0.04055394]\n",
            " [ 0.58207317]]\n",
            "v[\"dW1\"] = [[-0.11006192  0.11447237  0.09015907]\n",
            " [ 0.05024943  0.09008559 -0.06837279]]\n",
            "v[\"db1\"] = [[-0.01228902]\n",
            " [-0.09357694]]\n",
            "v[\"dW2\"] = [[-0.02678881  0.05303555 -0.06916608]\n",
            " [-0.03967535 -0.06871727 -0.08452056]\n",
            " [-0.06712461 -0.00126646 -0.11173103]]\n",
            "v[\"db2\"] = [[0.02344157]\n",
            " [0.16598022]\n",
            " [0.07420442]]\n"
          ]
        }
      ],
      "source": [
        "parameters, grads, v = update_parameters_with_momentum_test_case()\n",
        "\n",
        "parameters, v = update_parameters_with_momentum(parameters, grads, v, beta = 0.9, learning_rate = 0.01)\n",
        "print(\"W1 = \" + str(parameters[\"W1\"]))\n",
        "print(\"b1 = \" + str(parameters[\"b1\"]))\n",
        "print(\"W2 = \" + str(parameters[\"W2\"]))\n",
        "print(\"b2 = \" + str(parameters[\"b2\"]))\n",
        "print(\"v[\\\"dW1\\\"] = \" + str(v[\"dW1\"]))\n",
        "print(\"v[\\\"db1\\\"] = \" + str(v[\"db1\"]))\n",
        "print(\"v[\\\"dW2\\\"] = \" + str(v[\"dW2\"]))\n",
        "print(\"v[\\\"db2\\\"] = \" + str(v[\"db2\"]))"
      ]
    },
    {
      "cell_type": "markdown",
      "metadata": {
        "id": "trGUbWOjNQmi"
      },
      "source": [
        "### Adam"
      ]
    },
    {
      "cell_type": "markdown",
      "metadata": {
        "id": "5OTvRr8kMTEC"
      },
      "source": [
        "Adam is one of the most effective optimization algorithms for training neural networks. It combines ideas from RMSProp and Momentum."
      ]
    },
    {
      "cell_type": "code",
      "execution_count": 40,
      "metadata": {
        "id": "5JQSS0hxNXb1"
      },
      "outputs": [],
      "source": [
        "# FUNCTION: initialize_adam\n",
        "\n",
        "def initialize_adam(parameters) :\n",
        "    \"\"\"\n",
        "    Initializes v and s as two python dictionaries with:\n",
        "                - keys: \"dW1\", \"db1\", ..., \"dWL\", \"dbL\"\n",
        "                - values: numpy arrays of zeros of the same shape as the corresponding gradients/parameters.\n",
        "\n",
        "    Arguments:\n",
        "    parameters -- python dictionary containing your parameters.\n",
        "                    parameters[\"W\" + str(l)] = Wl\n",
        "                    parameters[\"b\" + str(l)] = bl\n",
        "\n",
        "    Returns:\n",
        "    v -- python dictionary that will contain the exponentially weighted average of the gradient.\n",
        "                    v[\"dW\" + str(l)] = ...\n",
        "                    v[\"db\" + str(l)] = ...\n",
        "    s -- python dictionary that will contain the exponentially weighted average of the squared gradient.\n",
        "                    s[\"dW\" + str(l)] = ...\n",
        "                    s[\"db\" + str(l)] = ...\n",
        "\n",
        "    \"\"\"\n",
        "\n",
        "    L = len(parameters) // 2 # number of layers in the neural networks\n",
        "    v = {}\n",
        "    s = {}\n",
        "\n",
        "    # Initialize v, s. Input: \"parameters\". Outputs: \"v, s\".\n",
        "    for l in range(L):\n",
        "        v[\"dW\" + str(l+1)] = np.zeros((parameters[\"W\" + str(l+1)].shape))\n",
        "        v[\"db\" + str(l+1)] = np.zeros((parameters[\"b\" + str(l+1)].shape))\n",
        "        s[\"dW\" + str(l+1)] = np.zeros((parameters[\"W\" + str(l+1)].shape))\n",
        "        s[\"db\" + str(l+1)] = np.zeros((parameters[\"b\" + str(l+1)].shape))\n",
        "\n",
        "    return v, s"
      ]
    },
    {
      "cell_type": "code",
      "execution_count": 41,
      "metadata": {
        "colab": {
          "base_uri": "https://localhost:8080/"
        },
        "id": "HyS1EbkdNYsE",
        "outputId": "72eb8dc7-7920-483b-8b64-fb44c3a92849"
      },
      "outputs": [
        {
          "name": "stdout",
          "output_type": "stream",
          "text": [
            "v[\"dW1\"] = [[0. 0. 0.]\n",
            " [0. 0. 0.]]\n",
            "v[\"db1\"] = [[0.]\n",
            " [0.]]\n",
            "v[\"dW2\"] = [[0. 0. 0.]\n",
            " [0. 0. 0.]\n",
            " [0. 0. 0.]]\n",
            "v[\"db2\"] = [[0.]\n",
            " [0.]\n",
            " [0.]]\n",
            "s[\"dW1\"] = [[0. 0. 0.]\n",
            " [0. 0. 0.]]\n",
            "s[\"db1\"] = [[0.]\n",
            " [0.]]\n",
            "s[\"dW2\"] = [[0. 0. 0.]\n",
            " [0. 0. 0.]\n",
            " [0. 0. 0.]]\n",
            "s[\"db2\"] = [[0.]\n",
            " [0.]\n",
            " [0.]]\n"
          ]
        }
      ],
      "source": [
        "parameters = initialize_adam_test_case()\n",
        "\n",
        "v, s = initialize_adam(parameters)\n",
        "print(\"v[\\\"dW1\\\"] = \" + str(v[\"dW1\"]))\n",
        "print(\"v[\\\"db1\\\"] = \" + str(v[\"db1\"]))\n",
        "print(\"v[\\\"dW2\\\"] = \" + str(v[\"dW2\"]))\n",
        "print(\"v[\\\"db2\\\"] = \" + str(v[\"db2\"]))\n",
        "print(\"s[\\\"dW1\\\"] = \" + str(s[\"dW1\"]))\n",
        "print(\"s[\\\"db1\\\"] = \" + str(s[\"db1\"]))\n",
        "print(\"s[\\\"dW2\\\"] = \" + str(s[\"dW2\"]))\n",
        "print(\"s[\\\"db2\\\"] = \" + str(s[\"db2\"]))"
      ]
    },
    {
      "cell_type": "code",
      "execution_count": 42,
      "metadata": {
        "id": "SxqIAJkDNb5i"
      },
      "outputs": [],
      "source": [
        "# FUNCTION: update_parameters_with_adam\n",
        "\n",
        "def update_parameters_with_adam(parameters, grads, v, s, t, learning_rate = 0.01,\n",
        "                                beta1 = 0.9, beta2 = 0.999,  epsilon = 1e-8):\n",
        "    \"\"\"\n",
        "    Update parameters using Adam\n",
        "\n",
        "    Arguments:\n",
        "    parameters -- python dictionary containing your parameters:\n",
        "                    parameters['W' + str(l)] = Wl\n",
        "                    parameters['b' + str(l)] = bl\n",
        "    grads -- python dictionary containing your gradients for each parameters:\n",
        "                    grads['dW' + str(l)] = dWl\n",
        "                    grads['db' + str(l)] = dbl\n",
        "    v -- Adam variable, moving average of the first gradient, python dictionary\n",
        "    s -- Adam variable, moving average of the squared gradient, python dictionary\n",
        "    learning_rate -- the learning rate, scalar.\n",
        "    beta1 -- Exponential decay hyperparameter for the first moment estimates\n",
        "    beta2 -- Exponential decay hyperparameter for the second moment estimates\n",
        "    epsilon -- hyperparameter preventing division by zero in Adam updates\n",
        "\n",
        "    Returns:\n",
        "    parameters -- python dictionary containing your updated parameters\n",
        "    v -- Adam variable, moving average of the first gradient, python dictionary\n",
        "    s -- Adam variable, moving average of the squared gradient, python dictionary\n",
        "    \"\"\"\n",
        "\n",
        "    L = len(parameters) // 2                 # number of layers in the neural networks\n",
        "    v_corrected = {}                         # Initializing first moment estimate, python dictionary\n",
        "    s_corrected = {}                         # Initializing second moment estimate, python dictionary\n",
        "\n",
        "    # Perform Adam update on all parameters\n",
        "    for l in range(L):\n",
        "        # Moving average of the gradients. Inputs: \"v, grads, beta1\". Output: \"v\".\n",
        "        v[\"dW\" + str(l+1)] = beta1 * v[\"dW\" + str(l+1)] + (1 - beta1) * grads['dW' + str(l+1)]\n",
        "        v[\"db\" + str(l+1)] = beta1 * v[\"db\" + str(l+1)] + (1 - beta1) * grads['db' + str(l+1)]\n",
        "\n",
        "        # Compute bias-corrected first moment estimate. Inputs: \"v, beta1, t\". Output: \"v_corrected\".\n",
        "        v_corrected[\"dW\" + str(l+1)] = v[\"dW\" + str(l+1)] / (1 - math.pow(beta1,t))\n",
        "        v_corrected[\"db\" + str(l+1)] = v[\"db\" + str(l+1)] / (1 - math.pow(beta1,t))\n",
        "\n",
        "        # Moving average of the squared gradients. Inputs: \"s, grads, beta2\". Output: \"s\".\n",
        "        s[\"dW\" + str(l+1)] = beta1 * s[\"dW\" + str(l+1)] + (1 - beta2) * grads['dW' + str(l+1)] * grads['dW' + str(l+1)]\n",
        "        s[\"db\" + str(l+1)] = beta1 * s[\"db\" + str(l+1)] + (1 - beta2) * grads['db' + str(l+1)] * grads['db' + str(l+1)]\n",
        "\n",
        "        # Compute bias-corrected second raw moment estimate. Inputs: \"s, beta2, t\". Output: \"s_corrected\".\n",
        "        s_corrected[\"dW\" + str(l+1)] = s[\"dW\" + str(l+1)] / (1 - math.pow(beta2,t))\n",
        "        s_corrected[\"db\" + str(l+1)] = s[\"db\" + str(l+1)] / (1 - math.pow(beta2,t))\n",
        "\n",
        "        # Update parameters. Inputs: \"parameters, learning_rate, v_corrected, s_corrected, epsilon\". Output: \"parameters\".\n",
        "        parameters[\"W\" + str(l+1)] = parameters[\"W\" + str(l+1)] - learning_rate * v_corrected[\"dW\" + str(l+1)] / (np.square(s_corrected[\"dW\" + str(l+1)])+ epsilon)\n",
        "        parameters[\"b\" + str(l+1)] = parameters[\"b\" + str(l+1)] - learning_rate * v_corrected[\"db\" + str(l+1)] / (np.square(s_corrected[\"db\" + str(l+1)])+ epsilon)\n",
        "\n",
        "    return parameters, v, s"
      ]
    },
    {
      "cell_type": "code",
      "execution_count": 43,
      "metadata": {
        "colab": {
          "base_uri": "https://localhost:8080/"
        },
        "id": "2SAAEomwNdMl",
        "outputId": "26ad96d3-9046-452b-c6af-49d81f8fd631"
      },
      "outputs": [
        {
          "name": "stdout",
          "output_type": "stream",
          "text": [
            "W1 = [[ 1.64012005 -0.62577712 -0.55686923]\n",
            " [-1.23872803  0.83663988 -2.23573927]]\n",
            "b1 = [[13.07517618]\n",
            " [-0.73554047]]\n",
            "W2 = [[ 1.41301675e+00 -3.90354632e-01  1.52566920e+00]\n",
            " [-1.72338971e+00 -2.57602399e-01 -3.49221843e-01]\n",
            " [ 1.20330813e+00  4.05392097e+03 -1.57349972e-01]]\n",
            "b2 = [[-2.51055757]\n",
            " [ 0.03761433]\n",
            " [ 0.53134184]]\n",
            "v[\"dW1\"] = [[-0.11006192  0.11447237  0.09015907]\n",
            " [ 0.05024943  0.09008559 -0.06837279]]\n",
            "v[\"db1\"] = [[-0.01228902]\n",
            " [-0.09357694]]\n",
            "v[\"dW2\"] = [[-0.02678881  0.05303555 -0.06916608]\n",
            " [-0.03967535 -0.06871727 -0.08452056]\n",
            " [-0.06712461 -0.00126646 -0.11173103]]\n",
            "v[\"db2\"] = [[0.02344157]\n",
            " [0.16598022]\n",
            " [0.07420442]]\n",
            "s[\"dW1\"] = [[0.00121136 0.00131039 0.00081287]\n",
            " [0.0002525  0.00081154 0.00046748]]\n",
            "s[\"db1\"] = [[1.51020075e-05]\n",
            " [8.75664434e-04]]\n",
            "s[\"dW2\"] = [[7.17640232e-05 2.81276921e-04 4.78394595e-04]\n",
            " [1.57413361e-04 4.72206320e-04 7.14372576e-04]\n",
            " [4.50571368e-04 1.60392066e-07 1.24838242e-03]]\n",
            "s[\"db2\"] = [[5.49507194e-05]\n",
            " [2.75494327e-03]\n",
            " [5.50629536e-04]]\n"
          ]
        }
      ],
      "source": [
        "parameters, grads, v, s = update_parameters_with_adam_test_case()\n",
        "parameters, v, s  = update_parameters_with_adam(parameters, grads, v, s, t = 2)\n",
        "\n",
        "print(\"W1 = \" + str(parameters[\"W1\"]))\n",
        "print(\"b1 = \" + str(parameters[\"b1\"]))\n",
        "print(\"W2 = \" + str(parameters[\"W2\"]))\n",
        "print(\"b2 = \" + str(parameters[\"b2\"]))\n",
        "print(\"v[\\\"dW1\\\"] = \" + str(v[\"dW1\"]))\n",
        "print(\"v[\\\"db1\\\"] = \" + str(v[\"db1\"]))\n",
        "print(\"v[\\\"dW2\\\"] = \" + str(v[\"dW2\"]))\n",
        "print(\"v[\\\"db2\\\"] = \" + str(v[\"db2\"]))\n",
        "print(\"s[\\\"dW1\\\"] = \" + str(s[\"dW1\"]))\n",
        "print(\"s[\\\"db1\\\"] = \" + str(s[\"db1\"]))\n",
        "print(\"s[\\\"dW2\\\"] = \" + str(s[\"dW2\"]))\n",
        "print(\"s[\\\"db2\\\"] = \" + str(s[\"db2\"]))"
      ]
    },
    {
      "cell_type": "markdown",
      "metadata": {
        "id": "yGtUes_AfxfC"
      },
      "source": [
        "##Conclusion of tasks"
      ]
    },
    {
      "cell_type": "markdown",
      "metadata": {
        "id": "_CWIWtSahPrb"
      },
      "source": [
        "### **Conclusion of Task-1: Gradient Descent Parameter Update**  \n",
        "\n",
        "In this task, we implemented the **gradient descent update rule** to adjust the parameters of a neural network.The update is applied iteratively for all layers in the network, ensuring that the model minimizes the loss function. The correctness of the implementation is verified by printing updated parameter values after applying the function. This step is fundamental in optimizing deep learning models using gradient descent."
      ]
    },
    {
      "cell_type": "markdown",
      "metadata": {
        "id": "DkzEVhBGiQOE"
      },
      "source": [
        "### **Conclusion of Tasks 2 & 3: Mini-Batch Partitioning for Gradient Descent**\n",
        "\n",
        "In this task, we implemented the process of **creating random mini-batches** from the given dataset. This is essential for **stochastic gradient descent (SGD) and mini-batch gradient descent**, which improve training efficiency and help avoid local minima.\n",
        "\n",
        "The mini-batch partitioning follows these steps:\n",
        "\n",
        "1. **Shuffling the Data:**  \n",
        "   To ensure randomness in training, the dataset is shuffled using a random permutation.\n",
        "\n",
        "2. **Creating Complete Mini-Batches:**  \n",
        "   The dataset is then split into mini-batches of the size 64.\n",
        "\n",
        "3. **Handling the Last Mini-Batch (if the total samples are not divisible by batch size):**  \n",
        "   If there are leftover samples that do not fit into a full batch, they are grouped into a smaller final batch.\n",
        "\n",
        "   This ensures that all training data is utilized effectively.\n",
        "\n",
        "### **Our understanding:**\n",
        "1. **Shuffling helps prevent biases in training order.**  \n",
        "2. **Mini-batching speeds up training compared to full-batch gradient descent.**  \n",
        "3. **Handling incomplete batches ensures that no data is lost.**  \n",
        "4. **This method improves model generalization and stability during optimization.**  \n",
        "\n",
        "By implementing this approach, we create an efficient **mini-batch gradient descent mechanism**, making the training process faster and more robust.\n"
      ]
    },
    {
      "cell_type": "markdown",
      "metadata": {
        "id": "bVVQ34sbiWVf"
      },
      "source": [
        "### **Conclusion of Tasks 4 & 5: Parameter Update Using Momentum**  \n",
        "\n",
        "In this task, we implemented the **momentum-based gradient update**, an optimization technique that accelerates gradient descent by maintaining an exponentially weighted average of past gradients.  \n",
        "\n",
        "The key steps involved:  \n",
        "\n",
        "1. **Computing the Velocity:**  \n",
        "   The velocity update equation smooths out gradient fluctuations, preventing sharp changes. **β** is momentum hyperparameter determines how much past gradients influence the current update.\n",
        "\n",
        "2. **Updating the Parameters:**  \n",
        "   The parameters are then updated using the momentum-adjusted gradients\n",
        "\n",
        "   \n",
        "\n",
        "    \n",
        "\n",
        "### **Our understanding:**  \n",
        "1. **Momentum reduces oscillations** in gradient descent, leading to faster convergence.  \n",
        "2. **Smooths updates** by incorporating past gradient information, making training more stable.  \n",
        "3. **Particularly effective in deep networks** where standard gradient descent might be slow.  \n",
        "\n",
        "By implementing momentum-based optimization, we enhance **gradient descent efficiency**, making learning faster and more reliable.\n"
      ]
    }
  ],
  "metadata": {
    "colab": {
      "provenance": [],
      "toc_visible": true
    },
    "kernelspec": {
      "display_name": "Python 3",
      "name": "python3"
    },
    "language_info": {
      "name": "python"
    }
  },
  "nbformat": 4,
  "nbformat_minor": 0
}
